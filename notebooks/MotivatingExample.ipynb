{
 "cells": [
  {
   "cell_type": "markdown",
   "metadata": {
    "slideshow": {
     "slide_type": "slide"
    }
   },
   "source": [
    "# Motivating Example\n",
    "\n",
    "> ### You have been given a bunch of data files. You need to make a plot."
   ]
  },
  {
   "cell_type": "markdown",
   "metadata": {
    "slideshow": {
     "slide_type": "fragment"
    }
   },
   "source": [
    "It could be that this is some quick plot that you need for a one-time purpose, or it could be the beginning of your new reaserch project. \n",
    "\n",
    "In this example we have been given the census data for Tasmania and we would like to make a plot of the average number of births per gender for the 19th century.\n",
    "\n",
    "We have been given 17 data files in comma-separated-values (CSV) format. \n",
    "\n",
    "Data Source: https://data.gov.au/data/dataset/tasmanian-births-1803-1933"
   ]
  },
  {
   "cell_type": "code",
   "execution_count": null,
   "metadata": {
    "slideshow": {
     "slide_type": "slide"
    }
   },
   "outputs": [],
   "source": [
    "import glob # Find files\n",
    "import matplotlib.pyplot as plt\n",
    "import pandas as pd\n",
    "import seaborn\n",
    "seaborn.set() # Prettier plots"
   ]
  },
  {
   "cell_type": "code",
   "execution_count": null,
   "metadata": {
    "slideshow": {
     "slide_type": "-"
    }
   },
   "outputs": [],
   "source": [
    "# Get (compressed) CSV files in the data folder\n",
    "matching_files = glob.glob('../data/tasmania*.csv.bz2')"
   ]
  },
  {
   "cell_type": "code",
   "execution_count": null,
   "metadata": {
    "slideshow": {
     "slide_type": "subslide"
    }
   },
   "outputs": [],
   "source": [
    "def read_file(fn, index_col='NI_BIRTH_DATE', columns=None):\n",
    "    \"\"\" Helper function to read CSV files \"\"\"\n",
    "    \n",
    "    return pd.read_csv(fn, # Filename inside loop\n",
    "                       index_col=index_col, # Index column\n",
    "                       parse_dates=True, # Parse columns that look like dates\n",
    "                       usecols=columns, # Only use columns above\n",
    "                      ).rename(columns=columns)"
   ]
  },
  {
   "cell_type": "code",
   "execution_count": null,
   "metadata": {},
   "outputs": [],
   "source": [
    "# Dictionary used for renaming columns\n",
    "columns = {\n",
    "    'NI_BIRTH_DATE': 'birth_date',\n",
    "    'NI_GENDER': 'gender',\n",
    "    'NI_NAME_FACET': 'name'\n",
    "}"
   ]
  },
  {
   "cell_type": "code",
   "execution_count": null,
   "metadata": {
    "slideshow": {
     "slide_type": "subslide"
    }
   },
   "outputs": [],
   "source": [
    "# Load the birth data for each decade\n",
    "birth_data = pd.concat([read_file(fn, columns=columns)\n",
    "                           for fn # Filename for each matching file\n",
    "                           in matching_files\n",
    "                       ])\n",
    "\n",
    "# Add a one-hot column for aggregating\n",
    "birth_data['val'] = 1\n",
    "\n",
    "# Filter down to just the dates we want as an example\n",
    "birth_data = birth_data['1800-01-01':'1900-01-01']"
   ]
  },
  {
   "cell_type": "code",
   "execution_count": null,
   "metadata": {
    "slideshow": {
     "slide_type": "subslide"
    }
   },
   "outputs": [],
   "source": [
    "# Get the total counts for display\n",
    "totals = birth_data.groupby('gender').sum().val.to_dict()\n",
    "totals"
   ]
  },
  {
   "cell_type": "code",
   "execution_count": null,
   "metadata": {},
   "outputs": [],
   "source": [
    "# Get the 5 year sum for each gender group\n",
    "gender_data = birth_data.groupby('gender').resample('5Y').sum().unstack('gender').droplevel(0, axis=1).fillna(0)\n",
    "\n",
    "# Use just the years for the index - no longer a time index\n",
    "gender_data.index = gender_data.index.year"
   ]
  },
  {
   "cell_type": "code",
   "execution_count": null,
   "metadata": {
    "slideshow": {
     "slide_type": "subslide"
    }
   },
   "outputs": [],
   "source": [
    "# Plot the births per year\n",
    "ax = gender_data.plot(kind='bar', stacked=True, figsize=(12, 9))\n",
    "\n",
    "# Fix the date labels\n",
    "ax.get_figure().autofmt_xdate()\n",
    "\n",
    "# Add labels and title\n",
    "ax.set_xlabel('Birth Year', fontsize=16)\n",
    "ax.set_ylabel('Num Births', fontsize=16)\n",
    "ax.set_title('Tasmania Births by Gender - 1800-1900', fontsize=20)\n",
    "\n",
    "ax.legend([f'{total:10d} {gender!r}' for gender, total in totals.items()], fontsize=16)\n",
    "\n",
    "plt.show()"
   ]
  },
  {
   "cell_type": "markdown",
   "metadata": {},
   "source": [
    "# Where to?\n",
    "\n",
    "Time to check our [Programming Style](ProgrammingStyle.ipynb)"
   ]
  }
 ],
 "metadata": {
  "celltoolbar": "Slideshow",
  "kernelspec": {
   "display_name": "Python 3",
   "language": "python",
   "name": "python3"
  },
  "language_info": {
   "codemirror_mode": {
    "name": "ipython",
    "version": 3
   },
   "file_extension": ".py",
   "mimetype": "text/x-python",
   "name": "python",
   "nbconvert_exporter": "python",
   "pygments_lexer": "ipython3",
   "version": "3.7.2"
  }
 },
 "nbformat": 4,
 "nbformat_minor": 2
}
