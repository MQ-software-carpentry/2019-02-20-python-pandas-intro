{
 "cells": [
  {
   "cell_type": "markdown",
   "metadata": {},
   "source": [
    "# Programming Style"
   ]
  },
  {
   "cell_type": "markdown",
   "metadata": {
    "slideshow": {
     "slide_type": "slide"
    }
   },
   "source": [
    "## Coding style\n",
    "\n",
    "* Coding style helps us to understand the code better. \n",
    "* Community Standards.\n",
    "* Standards Style: Python Enhancement Proposals (PEP), [PEP8](https://www.python.org/dev/peps/pep-0008)\n",
    "* Importance of readability:  [Zen of Python](https://www.python.org/dev/peps/pep-0020).\n",
    "\n",
    "We may highlight some points:\n",
    "*   document your code\n",
    "*   use clear, meaningful variable names\n",
    "*   use white-space, *not* tabs, to indent lines"
   ]
  },
  {
   "cell_type": "markdown",
   "metadata": {},
   "source": [
    "## Use clear, meaninful variable names\n",
    "\n",
    "Always good to look at the official [naming conventions](https://www.python.org/dev/peps/pep-0008/#naming-conventions).\n",
    "\n",
    "## Do\n",
    "* Use `lowercase_underscores`.\n",
    "* Use `meaningful_names` (e.g. verbs and nouns!).\n",
    "\n",
    "## Don't\n",
    "* Use `camelCase`.\n",
    "* Use `UPPER_CASE` (unless it's a global!).\n",
    "\n",
    "## Always\n",
    "* Do what the rest of your project/team is doing."
   ]
  },
  {
   "cell_type": "code",
   "execution_count": 6,
   "metadata": {},
   "outputs": [],
   "source": [
    "# Most third party modules will use this same syntax\n",
    "from names import get_full_name"
   ]
  },
  {
   "cell_type": "code",
   "execution_count": 7,
   "metadata": {},
   "outputs": [
    {
     "name": "stdout",
     "output_type": "stream",
     "text": [
      "Sepe, Deborah\n"
     ]
    }
   ],
   "source": [
    "# Not recommended\n",
    "x = get_full_name()\n",
    "y, z = x.split()\n",
    "print(z, y, sep=', ')"
   ]
  },
  {
   "cell_type": "code",
   "execution_count": 8,
   "metadata": {},
   "outputs": [
    {
     "name": "stdout",
     "output_type": "stream",
     "text": [
      "Rodriguez, David\n"
     ]
    }
   ],
   "source": [
    "# Recommended\n",
    "name = get_full_name()\n",
    "first_name, last_name = name.split()\n",
    "print(last_name, first_name, sep=', ')"
   ]
  },
  {
   "cell_type": "code",
   "execution_count": 3,
   "metadata": {},
   "outputs": [],
   "source": [
    "# Not recommended - why?\n",
    "def db(x):\n",
    "    \"\"\" Doubles the digit \"\"\"\n",
    "    return x * 2"
   ]
  },
  {
   "cell_type": "markdown",
   "metadata": {
    "slideshow": {
     "slide_type": "slide"
    }
   },
   "source": [
    "## Use assertions to check for internal errors.\n",
    "\n",
    "Assertions are a simple, but powerful method for making sure that the context in which your code is executing is as you expect."
   ]
  },
  {
   "cell_type": "code",
   "execution_count": null,
   "metadata": {},
   "outputs": [],
   "source": [
    "def calc_bulk_density(mass, volume):\n",
    "    '''Return dry bulk density = powder mass / powder volume.'''\n",
    "    assert volume > 0, \"Volume cannot be zero or less\"\n",
    "    return mass / volume"
   ]
  },
  {
   "cell_type": "code",
   "execution_count": null,
   "metadata": {},
   "outputs": [],
   "source": [
    "# Call the function with a negative value for volume"
   ]
  },
  {
   "cell_type": "markdown",
   "metadata": {},
   "source": [
    "If the assertion is `False`, the Python interpreter raises an `AssertionError` runtime exception. The source code for the expression that failed will be displayed as part of the error message. To ignore assertions in your code run the interpreter with the '-O' (optimize) switch. Assertions should contain only simple checks and never change the state of the program. For example, an assertion should never contain an assignment."
   ]
  },
  {
   "cell_type": "markdown",
   "metadata": {
    "slideshow": {
     "slide_type": "slide"
    }
   },
   "source": [
    "## Use docstrings to provide online help.\n",
    "\n",
    "*   If the first thing in a function is a character string\n",
    "    that is not assigned to a variable,\n",
    "    Python attaches it to the function as the online help.\n",
    "*   Called a *docstring* (short for \"documentation string\")."
   ]
  },
  {
   "cell_type": "code",
   "execution_count": null,
   "metadata": {},
   "outputs": [],
   "source": [
    "def average(values):\n",
    "    \"\"\"Return average of values, or None if no values are supplied.\"\"\"\n",
    "\n",
    "    if len(values) == 0:\n",
    "        return None\n",
    "    return sum(values) / len(values)"
   ]
  },
  {
   "cell_type": "code",
   "execution_count": null,
   "metadata": {},
   "outputs": [],
   "source": [
    "# Call help(average) to get help string"
   ]
  },
  {
   "cell_type": "code",
   "execution_count": null,
   "metadata": {},
   "outputs": [],
   "source": [
    "# In a notebook you can also type: average?"
   ]
  },
  {
   "cell_type": "markdown",
   "metadata": {
    "slideshow": {
     "slide_type": "slide"
    }
   },
   "source": [
    "## Multiline Strings\n",
    "\n",
    "Often use *multiline strings* for documentation.\n",
    "These start and end with three quote characters (either single or double)\n",
    "and end with three matching characters."
   ]
  },
  {
   "cell_type": "code",
   "execution_count": null,
   "metadata": {},
   "outputs": [],
   "source": [
    "haiku = \"\"\"This message spans 3 lines\n",
    "but is all stored as one string.\n",
    "\n",
    "Blank lines are allowed.\"\"\"\n",
    "\n",
    "print(haiku)"
   ]
  },
  {
   "cell_type": "markdown",
   "metadata": {
    "slideshow": {
     "slide_type": "slide"
    }
   },
   "source": [
    "## Document This\n",
    "\n",
    "Turn the comment on the following function into a docstring\n",
    "and check that `help` displays it properly."
   ]
  },
  {
   "cell_type": "code",
   "execution_count": null,
   "metadata": {},
   "outputs": [],
   "source": [
    "def middle(a, b, c):\n",
    "    # Return the middle value of three.\n",
    "    # Assumes the values can actually be compared.\n",
    "    values = [a, b, c]\n",
    "    values.sort()\n",
    "    return values[1]"
   ]
  },
  {
   "cell_type": "code",
   "execution_count": null,
   "metadata": {},
   "outputs": [],
   "source": [
    "# Display help here"
   ]
  },
  {
   "cell_type": "markdown",
   "metadata": {},
   "source": [
    "# Where to?\n",
    "\n",
    "[Check-in](01-Checkin.ipynb) for coding styles."
   ]
  },
  {
   "cell_type": "markdown",
   "metadata": {
    "slideshow": {
     "slide_type": "slide"
    }
   },
   "source": [
    "## Questions:\n",
    "- \"How can I make my programs more readable?\"\n",
    "- \"How do most programmers format their code?\"\n",
    "- \"How can programs check their own operation?\"\n",
    "\n",
    "\n",
    "## Objectives:\n",
    "- \"Provide sound justifications for basic rules of coding style.\"\n",
    "- \"Refactor one-page programs to make them more readable and justify the changes.\"\n",
    "- \"Use Python community coding standards (PEP-8).\"\n",
    "\n",
    "## Keypoints:\n",
    "- \"Follow standard Python style in your code.\"\n",
    "- \"Use docstrings to provide online help.\""
   ]
  },
  {
   "cell_type": "markdown",
   "metadata": {
    "slideshow": {
     "slide_type": "slide"
    }
   },
   "source": [
    "## References\n",
    "\n",
    "### Software Carpentry\n",
    "* [Programming Style](http://swcarpentry.github.io/python-novice-gapminder/18-style/)\n",
    "\n",
    "### Other\n",
    "*   [PEP8](https://www.python.org/dev/peps/pep-0008):\n",
    "    a style guide for Python that discusses topics such as how you should name variables,\n",
    "    how you should use indentation in your code,\n",
    "    how you should structure your `import` statements,\n",
    "    etc.\n",
    "    Adhering to PEP8 makes it easier for other Python developers to read and understand your code,\n",
    "    and to understand what their contributions should look like.\n",
    "    The [PEP8 application and Python library](https://pypi.python.org/pypi/pep8)\n",
    "    can check your code for compliance with PEP8.\n",
    "*   [Google style guide on Python](https://google.github.io/styleguide/pyguide.html) \n",
    "    supports the use of PEP8 and extend the coding style to more specific structure of \n",
    "    a Python code, which may be interesting also to follow."
   ]
  }
 ],
 "metadata": {
  "kernelspec": {
   "display_name": "Python 3",
   "language": "python",
   "name": "python3"
  },
  "language_info": {
   "codemirror_mode": {
    "name": "ipython",
    "version": 3
   },
   "file_extension": ".py",
   "mimetype": "text/x-python",
   "name": "python",
   "nbconvert_exporter": "python",
   "pygments_lexer": "ipython3",
   "version": "3.7.2"
  }
 },
 "nbformat": 4,
 "nbformat_minor": 2
}
