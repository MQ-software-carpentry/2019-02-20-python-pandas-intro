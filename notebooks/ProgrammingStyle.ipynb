{
 "cells": [
  {
   "cell_type": "markdown",
   "metadata": {},
   "source": [
    "# Programming Style"
   ]
  },
  {
   "cell_type": "markdown",
   "metadata": {
    "slideshow": {
     "slide_type": "slide"
    }
   },
   "source": [
    "## Coding style\n",
    "\n",
    "* Coding style helps us to understand the code better. \n",
    "* Community Standards.\n",
    "* Standards Style: Python Enhancement Proposals (PEP), [PEP8](https://www.python.org/dev/peps/pep-0008)\n",
    "* Importance of readability:  [Zen of Python](https://www.python.org/dev/peps/pep-0020).\n",
    "\n",
    "We may highlight some points:\n",
    "*   document your code\n",
    "*   use clear, meaningful variable names\n",
    "*   use white-space, *not* tabs, to indent lines"
   ]
  },
  {
   "cell_type": "markdown",
   "metadata": {
    "slideshow": {
     "slide_type": "slide"
    }
   },
   "source": [
    "## Use assertions to check for internal errors.\n",
    "\n",
    "Assertions are a simple, but powerful method for making sure that the context in which your code is executing is as you expect."
   ]
  },
  {
   "cell_type": "code",
   "execution_count": null,
   "metadata": {},
   "outputs": [],
   "source": [
    "def calc_bulk_density(mass, volume):\n",
    "    '''Return dry bulk density = powder mass / powder volume.'''\n",
    "    assert volume > 0, \"Volume cannot be zero or less\"\n",
    "    return mass / volume"
   ]
  },
  {
   "cell_type": "code",
   "execution_count": 8,
   "metadata": {},
   "outputs": [],
   "source": [
    "# Call the function with a negative value for volume"
   ]
  },
  {
   "cell_type": "markdown",
   "metadata": {},
   "source": [
    "If the assertion is `False`, the Python interpreter raises an `AssertionError` runtime exception. The source code for the expression that failed will be displayed as part of the error message. To ignore assertions in your code run the interpreter with the '-O' (optimize) switch. Assertions should contain only simple checks and never change the state of the program. For example, an assertion should never contain an assignment."
   ]
  },
  {
   "cell_type": "markdown",
   "metadata": {
    "slideshow": {
     "slide_type": "slide"
    }
   },
   "source": [
    "## Use docstrings to provide online help.\n",
    "\n",
    "*   If the first thing in a function is a character string\n",
    "    that is not assigned to a variable,\n",
    "    Python attaches it to the function as the online help.\n",
    "*   Called a *docstring* (short for \"documentation string\")."
   ]
  },
  {
   "cell_type": "code",
   "execution_count": 10,
   "metadata": {},
   "outputs": [],
   "source": [
    "def average(values):\n",
    "    \"\"\"Return average of values, or None if no values are supplied.\"\"\"\n",
    "\n",
    "    if len(values) == 0:\n",
    "        return None\n",
    "    return sum(values) / len(values)"
   ]
  },
  {
   "cell_type": "code",
   "execution_count": 22,
   "metadata": {},
   "outputs": [],
   "source": [
    "# Call help(average) to get help string"
   ]
  },
  {
   "cell_type": "code",
   "execution_count": 14,
   "metadata": {},
   "outputs": [
    {
     "data": {
      "text/plain": [
       "\u001b[0;31mSignature:\u001b[0m \u001b[0maverage\u001b[0m\u001b[0;34m(\u001b[0m\u001b[0mvalues\u001b[0m\u001b[0;34m)\u001b[0m\u001b[0;34m\u001b[0m\u001b[0;34m\u001b[0m\u001b[0m\n",
       "\u001b[0;31mDocstring:\u001b[0m Return average of values, or None if no values are supplied.\n",
       "\u001b[0;31mFile:\u001b[0m      ~/Projects/2019-02-20-python-pandas-intro/notebooks/<ipython-input-10-231dbea93929>\n",
       "\u001b[0;31mType:\u001b[0m      function\n"
      ]
     },
     "metadata": {},
     "output_type": "display_data"
    }
   ],
   "source": [
    "# In a notebook you can also type: average?"
   ]
  },
  {
   "cell_type": "markdown",
   "metadata": {
    "slideshow": {
     "slide_type": "slide"
    }
   },
   "source": [
    "## Multiline Strings\n",
    "\n",
    "Often use *multiline strings* for documentation.\n",
    "These start and end with three quote characters (either single or double)\n",
    "and end with three matching characters."
   ]
  },
  {
   "cell_type": "code",
   "execution_count": 7,
   "metadata": {},
   "outputs": [
    {
     "name": "stdout",
     "output_type": "stream",
     "text": [
      "This message spans 3 lines\n",
      "but is all stored as one string.\n",
      "\n",
      "Blank lines are allowed.\n"
     ]
    }
   ],
   "source": [
    "haiku = \"\"\"This message spans 3 lines\n",
    "but is all stored as one string.\n",
    "\n",
    "Blank lines are allowed.\"\"\"\n",
    "\n",
    "print(haiku)"
   ]
  },
  {
   "cell_type": "markdown",
   "metadata": {
    "slideshow": {
     "slide_type": "slide"
    }
   },
   "source": [
    "## Document This\n",
    "\n",
    "Turn the comment on the following function into a docstring\n",
    "and check that `help` displays it properly."
   ]
  },
  {
   "cell_type": "code",
   "execution_count": 15,
   "metadata": {},
   "outputs": [],
   "source": [
    "def middle(a, b, c):\n",
    "    # Return the middle value of three.\n",
    "    # Assumes the values can actually be compared.\n",
    "    values = [a, b, c]\n",
    "    values.sort()\n",
    "    return values[1]"
   ]
  },
  {
   "cell_type": "code",
   "execution_count": 17,
   "metadata": {},
   "outputs": [],
   "source": [
    "# Display help here"
   ]
  },
  {
   "cell_type": "markdown",
   "metadata": {},
   "source": [
    "# Where to?\n",
    "\n",
    "[Check-in](01-Checkin.ipynb) for coding styles."
   ]
  },
  {
   "cell_type": "markdown",
   "metadata": {
    "slideshow": {
     "slide_type": "slide"
    }
   },
   "source": [
    "## Questions:\n",
    "- \"How can I make my programs more readable?\"\n",
    "- \"How do most programmers format their code?\"\n",
    "- \"How can programs check their own operation?\"\n",
    "\n",
    "\n",
    "## Objectives:\n",
    "- \"Provide sound justifications for basic rules of coding style.\"\n",
    "- \"Refactor one-page programs to make them more readable and justify the changes.\"\n",
    "- \"Use Python community coding standards (PEP-8).\"\n",
    "\n",
    "## Keypoints:\n",
    "- \"Follow standard Python style in your code.\"\n",
    "- \"Use docstrings to provide online help.\""
   ]
  },
  {
   "cell_type": "markdown",
   "metadata": {
    "slideshow": {
     "slide_type": "slide"
    }
   },
   "source": [
    "## References\n",
    "\n",
    "### Software Carpentry\n",
    "* [Programming Style](http://swcarpentry.github.io/python-novice-gapminder/18-style/)\n",
    "\n",
    "### Other\n",
    "*   [PEP8](https://www.python.org/dev/peps/pep-0008):\n",
    "    a style guide for Python that discusses topics such as how you should name variables,\n",
    "    how you should use indentation in your code,\n",
    "    how you should structure your `import` statements,\n",
    "    etc.\n",
    "    Adhering to PEP8 makes it easier for other Python developers to read and understand your code,\n",
    "    and to understand what their contributions should look like.\n",
    "    The [PEP8 application and Python library](https://pypi.python.org/pypi/pep8)\n",
    "    can check your code for compliance with PEP8.\n",
    "*   [Google style guide on Python](https://google.github.io/styleguide/pyguide.html) \n",
    "    supports the use of PEP8 and extend the coding style to more specific structure of \n",
    "    a Python code, which may be interesting also to follow."
   ]
  }
 ],
 "metadata": {
  "kernelspec": {
   "display_name": "Python 3",
   "language": "python",
   "name": "python3"
  },
  "language_info": {
   "codemirror_mode": {
    "name": "ipython",
    "version": 3
   },
   "file_extension": ".py",
   "mimetype": "text/x-python",
   "name": "python",
   "nbconvert_exporter": "python",
   "pygments_lexer": "ipython3",
   "version": "3.7.2"
  }
 },
 "nbformat": 4,
 "nbformat_minor": 2
}
