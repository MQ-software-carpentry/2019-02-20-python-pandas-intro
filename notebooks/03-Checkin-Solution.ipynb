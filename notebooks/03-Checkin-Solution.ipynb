{
 "cells": [
  {
   "cell_type": "markdown",
   "metadata": {
    "colab_type": "text",
    "id": "_SNnxpZpSzEF"
   },
   "source": [
    "# Check-in - Working with Time Series"
   ]
  },
  {
   "cell_type": "code",
   "execution_count": null,
   "metadata": {},
   "outputs": [],
   "source": [
    "%matplotlib inline\n",
    "import matplotlib.pyplot as plt\n",
    "import seaborn; seaborn.set()\n",
    "\n",
    "import pandas as pd"
   ]
  },
  {
   "cell_type": "code",
   "execution_count": null,
   "metadata": {},
   "outputs": [],
   "source": [
    "births = pd.read_csv('../data/tasmania-births-1830-1839.csv.bz2', index_col='NI_BIRTH_DATE', parse_dates=True)\n",
    "births.head()"
   ]
  },
  {
   "cell_type": "markdown",
   "metadata": {},
   "source": [
    "We will make 'one-hot' columns for the male and female genders"
   ]
  },
  {
   "cell_type": "code",
   "execution_count": null,
   "metadata": {},
   "outputs": [],
   "source": [
    "births.loc[births.NI_GENDER == \"Female\", 'Female'] = 1\n",
    "births.loc[births.NI_GENDER == \"Male\", 'Male'] = 1"
   ]
  },
  {
   "cell_type": "code",
   "execution_count": null,
   "metadata": {},
   "outputs": [],
   "source": [
    "gender_births = births.loc[:, 'Female':'Male'].fillna(0)\n",
    "monthly_births = gender_births.resample('1m').sum()"
   ]
  },
  {
   "cell_type": "markdown",
   "metadata": {
    "colab_type": "text",
    "id": "rhtS9YmkSzGR"
   },
   "source": [
    "We can visualize this using the ``plot()`` method, after the normal Matplotlib setup boilerplate."
   ]
  },
  {
   "cell_type": "code",
   "execution_count": null,
   "metadata": {},
   "outputs": [],
   "source": [
    "data = monthly_births.Female"
   ]
  },
  {
   "cell_type": "markdown",
   "metadata": {
    "colab_type": "text",
    "id": "OUkRAtfFSzGv"
   },
   "source": [
    "### Rolling windows"
   ]
  },
  {
   "cell_type": "code",
   "execution_count": null,
   "metadata": {},
   "outputs": [],
   "source": [
    "# Make rolling window plots but include both Males and Females\n",
    "\n",
    "window_size = 6  # months\n",
    "\n",
    "fig, ax = plt.subplots(1, sharex=True)\n",
    "\n",
    "# Control what colors we want\n",
    "style_lookup = {\n",
    "    'Male': 'C6',\n",
    "    'Female': 'B',\n",
    "}\n",
    "\n",
    "# Look over each gender\n",
    "for i, gender in enumerate(['Female', 'Male']):\n",
    "    # Get the monthly data for the gender\n",
    "    data = monthly_births[gender]\n",
    "\n",
    "    # Get rolling data for window_size months\n",
    "    rolling = data.rolling(window_size, center=True)\n",
    "\n",
    "    # Create new dataframe with just this data\n",
    "    data2 = pd.DataFrame({gender: data,\n",
    "                         f'{gender} one-year rolling_mean': rolling.mean(),\n",
    "                         f'{gender} one-year rolling_std': rolling.std()})\n",
    "\n",
    "    # Plot the data, the mean, and the std (with some style!)\n",
    "    data2.plot(style=['-', '--', ':'],\n",
    "               color=style_lookup[gender],\n",
    "               figsize=(12, 9),\n",
    "               ax=ax\n",
    "              )\n",
    "\n",
    "# Adjust plot for viewing\n",
    "ax.lines[0].set_alpha(0.3)\n",
    "ax.lines[3].set_alpha(0.3)\n",
    "ax.lines[1].set_linewidth(3)\n",
    "ax.lines[4].set_linewidth(3)\n",
    "\n",
    "# Set title\n",
    "ax.set_title(f'Tasmania Births')"
   ]
  },
  {
   "cell_type": "markdown",
   "metadata": {},
   "source": [
    "# Where to?\n",
    "\n",
    "Learn how to [Read tabular data into pandas](ReadingTabularData.ipynb)."
   ]
  }
 ],
 "metadata": {
  "colab": {
   "name": "03.11-Working-with-Time-Series.ipynb",
   "provenance": [],
   "version": "0.3.2"
  },
  "kernelspec": {
   "display_name": "Python 3",
   "language": "python",
   "name": "python3"
  },
  "language_info": {
   "codemirror_mode": {
    "name": "ipython",
    "version": 3
   },
   "file_extension": ".py",
   "mimetype": "text/x-python",
   "name": "python",
   "nbconvert_exporter": "python",
   "pygments_lexer": "ipython3",
   "version": "3.7.2"
  }
 },
 "nbformat": 4,
 "nbformat_minor": 2
}
