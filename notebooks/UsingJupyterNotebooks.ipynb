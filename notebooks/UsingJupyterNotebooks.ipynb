{
 "cells": [
  {
   "cell_type": "markdown",
   "metadata": {
    "slideshow": {
     "slide_type": "slide"
    }
   },
   "source": [
    "# Let's take a tour!\n",
    "\n",
    "Take a moment to get familiar with the interface to JupyterLab.\n",
    "\n",
    "Also check out this same notebook in a regular Notebook interace (i.e. without JupyterLab)."
   ]
  },
  {
   "cell_type": "markdown",
   "metadata": {
    "slideshow": {
     "slide_type": "slide"
    }
   },
   "source": [
    "\n",
    "# Jupyter and Friends\n",
    "\n",
    "> The Jupyter Notebook is an open-source web application that allows you to create and share documents that contain live code, equations, visualizations and narrative text. Uses include: data cleaning and transformation, numerical simulation, statistical modeling, data visualization, machine learning, and much more."
   ]
  },
  {
   "cell_type": "markdown",
   "metadata": {
    "slideshow": {
     "slide_type": "slide"
    }
   },
   "source": [
    "### Definitions\n",
    "\n",
    "* __JupyterLab__: A browser-based application for interactive software development. Helps organize notebooks, data, images, etc.\n",
    "* __Jupyter Notebook__: A single \"page\" of interactive code, usually dedicated to a single task.\n",
    "* __mybinder__: An online service that will run a copy of either a single notebook or a JupyterLab application.\n",
    "\n",
    "\n",
    "* __cell__: The little boxes you can type in. Code can have output.\n",
    "* __command mode__: When you are running or manipulating (adding/removing) cells.\n",
    "* __edit mode__: When you are actually typing text in a cell.\n",
    "* __kernel__: The code behind the webpage that is responsible for running the code in the cells. In our case this is a Python3 kernel.\n",
    "\n",
    "* __Markdown__: A simple way to make easy text formats, such as this bullet point and bold text."
   ]
  },
  {
   "cell_type": "markdown",
   "metadata": {
    "slideshow": {
     "slide_type": "slide"
    }
   },
   "source": [
    "### Most common commands\n",
    "\n",
    "* `shift` + `enter` run cell, move down.\n",
    "* `ctrl` + `enter` run cell, don't move.  \n",
    "* `alt` (`option`) + `enter` run cell, insert new cell below.  \n",
    "\n",
    "Command mode only:\n",
    "* `a` insert cell above.\n",
    "* `b` insert cell below.\n",
    "* `x` delete current cell.\n",
    "* `z` undo last cell deletion.\n",
    "\n",
    "_We'll practice this below!_\n",
    "<hr>"
   ]
  },
  {
   "cell_type": "markdown",
   "metadata": {
    "slideshow": {
     "slide_type": "slide"
    }
   },
   "source": [
    "## Editing Cells"
   ]
  },
  {
   "cell_type": "markdown",
   "metadata": {
    "slideshow": {
     "slide_type": "subslide"
    }
   },
   "source": [
    "I am a Markdown cell with text.\n",
    "\n",
    "*I am bold.*\n",
    "\n",
    "**I am emphasized.**\n",
    "\n",
    "I have a `text=\"code\"` example in the middle of my sentence. The back-tick key (\\`) is usually to the left of the number one (1).\n",
    "\n",
    "```python\n",
    "# I am a python code block\n",
    "fruit_type = 'banana'\n",
    "num_fruits = 42\n",
    "\n",
    "print(f\"Fruit: {fruit_type} Count: {num_fruits}\")\n",
    "```\n",
    "\n",
    "If you double-click or press `enter` while I am active you can edit me! **Give it a try now!** \n",
    "\n",
    "***I would like to be bold and emphasized please.***\n",
    "\n",
    "When you are done editing this cell, press `ctrl-enter` and it will show the rendered text.\n",
    "\n",
    "> **Tip:** An \"active\" cell will have a blue bar to the left. P.S. I'm an inset note, which is also good for quotes!"
   ]
  },
  {
   "cell_type": "markdown",
   "metadata": {
    "slideshow": {
     "slide_type": "subslide"
    }
   },
   "source": [
    "I am a different cell from the one above but because we are both markdown cells it is kind of hard to tell.\n",
    "\n",
    "You should use me to talk about the difference between **command mode** and **edit mode**.\n",
    "\n",
    "_Enter edit mode now! Quick! Double-click me!_\n",
    "\n",
    "* What happens if you are in Edit mode and hit `esc`?\n",
    "* How can you tell if you are in **edit mode**?"
   ]
  },
  {
   "cell_type": "code",
   "execution_count": null,
   "metadata": {
    "slideshow": {
     "slide_type": "fragment"
    }
   },
   "outputs": [],
   "source": [
    "# Code cell for testing command/edit mode differences\n",
    "name = 'Intro to pandas'\n",
    "print(name)"
   ]
  },
  {
   "cell_type": "markdown",
   "metadata": {},
   "source": [
    "> **Tip:** An \"active\" cell will have a blue bar to the left."
   ]
  },
  {
   "cell_type": "markdown",
   "metadata": {
    "slideshow": {
     "slide_type": "slide"
    }
   },
   "source": [
    "## Running Cells"
   ]
  },
  {
   "cell_type": "code",
   "execution_count": null,
   "metadata": {
    "slideshow": {
     "slide_type": "-"
    }
   },
   "outputs": [],
   "source": [
    "# I am a simple cell that will have some output. Try running me with Shift-Enter!\n",
    "print('Hello World')"
   ]
  },
  {
   "cell_type": "code",
   "execution_count": null,
   "metadata": {},
   "outputs": [],
   "source": [
    "# I am a cell with no output. Run me with Shift-Enter too!\n",
    "month = 2\n",
    "day = 20\n",
    "year = 2019\n",
    "\n",
    "# Count how many times we run cell below\n",
    "num_runs = 0"
   ]
  },
  {
   "cell_type": "code",
   "execution_count": null,
   "metadata": {},
   "outputs": [],
   "source": [
    "# Run this cell with Ctrl-Enter until complete.\n",
    "print(f\"Run: {num_runs}\")\n",
    "\n",
    "if num_runs == 5:\n",
    "    print(\"Woohoo!\")\n",
    "else:\n",
    "    num_runs += 1"
   ]
  },
  {
   "cell_type": "markdown",
   "metadata": {
    "slideshow": {
     "slide_type": "slide"
    }
   },
   "source": [
    "## Add/Delete/Undo Cells\n",
    "\n",
    "The commands creating and deleting new cells are:\n",
    "\n",
    "* `a` insert cell above.\n",
    "* `b` insert cell below.\n",
    "* `x` delete current cell.\n",
    "* `z` undo last cell deletion."
   ]
  },
  {
   "cell_type": "markdown",
   "metadata": {},
   "source": [
    "**Create a new cell above me, then one below me**"
   ]
  },
  {
   "cell_type": "markdown",
   "metadata": {},
   "source": [
    "Delete me by pressing the `x` key. Don't worry, you can undo with `z`! _(Just don't overdue it!)_"
   ]
  },
  {
   "cell_type": "markdown",
   "metadata": {
    "slideshow": {
     "slide_type": "slide"
    }
   },
   "source": [
    "All the cells are connected to the same kernel, so even though there was no output above, we can still access the variables:"
   ]
  },
  {
   "cell_type": "code",
   "execution_count": null,
   "metadata": {},
   "outputs": [],
   "source": [
    "print(f\"Today's date: {day}/{month}/{year}\")"
   ]
  },
  {
   "cell_type": "markdown",
   "metadata": {
    "slideshow": {
     "slide_type": "slide"
    }
   },
   "source": [
    "> ## Important Note: \n",
    "> The kernel doesn't know anything about the order of the cells! While you are developing interactively this can lead to some not-obvious behaviour."
   ]
  },
  {
   "cell_type": "markdown",
   "metadata": {
    "slideshow": {
     "slide_type": "slide"
    }
   },
   "source": [
    "## Kernel Stop/Restart\n",
    "\n",
    "Important things to know about the kernel:\n",
    "\n",
    "* Stopping/restarting kernel\n",
    "* Clearing output"
   ]
  },
  {
   "cell_type": "markdown",
   "metadata": {
    "slideshow": {
     "slide_type": "slide"
    }
   },
   "source": [
    "#### Example:\n",
    "\n",
    "You should have run all the cells up above, which means the kernel is storing three variables (`month`, `day`, `year`).  \n",
    "\n",
    "Now let's go create a new cell above the other cells and try to run the code.\n",
    "\n",
    "* Copy the cell below and paste at the top of this notebook:"
   ]
  },
  {
   "cell_type": "code",
   "execution_count": null,
   "metadata": {},
   "outputs": [],
   "source": [
    "# Copy this cell and put at top of notebook to try running again.\n",
    "print(f\"Today's date: {day}/{month}/{year}\")"
   ]
  },
  {
   "cell_type": "markdown",
   "metadata": {},
   "source": [
    "* What happens when you create and run the new cell?\n",
    "* What happens when you restart the kernel and then try the same thing?"
   ]
  },
  {
   "cell_type": "markdown",
   "metadata": {
    "slideshow": {
     "slide_type": "slide"
    }
   },
   "source": [
    "# Where to?\n",
    "\n",
    "First notebook done, you know what that means?\n",
    "\n",
    "**First test! ;)**\n",
    "\n",
    "Head over to the first [Check-in](00-Checkin.ipynb)!"
   ]
  },
  {
   "cell_type": "markdown",
   "metadata": {
    "slideshow": {
     "slide_type": "slide"
    }
   },
   "source": [
    "## References\n",
    "\n",
    "### Software Carpentry\n",
    "* [Variables and Assignment](http://swcarpentry.github.io/python-novice-gapminder/02-variables/index.html)\n",
    "* [Jupyter (Running and Quitting)](http://swcarpentry.github.io/python-novice-gapminder/01-run-quit/index.html)\n",
    "\n",
    "### Other\n",
    "\n",
    "* Notebook shortcuts: http://maxmelnick.com/2016/04/19/python-beginner-tips-and-tricks.html\n",
    "* Markdown cheatsheet: https://github.com/adam-p/markdown-here/wiki/Markdown-Cheatsheet\n",
    "* [JupyterLab Documentation](https://jupyterlab.readthedocs.io/en/stable/index.html)"
   ]
  }
 ],
 "metadata": {
  "celltoolbar": "Slideshow",
  "kernelspec": {
   "display_name": "Python 3",
   "language": "python",
   "name": "python3"
  },
  "language_info": {
   "codemirror_mode": {
    "name": "ipython",
    "version": 3
   },
   "file_extension": ".py",
   "mimetype": "text/x-python",
   "name": "python",
   "nbconvert_exporter": "python",
   "pygments_lexer": "ipython3",
   "version": "3.7.2"
  }
 },
 "nbformat": 4,
 "nbformat_minor": 2
}
