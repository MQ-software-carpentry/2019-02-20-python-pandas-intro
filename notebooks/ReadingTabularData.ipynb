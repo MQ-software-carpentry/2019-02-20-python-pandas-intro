{
 "cells": [
  {
   "cell_type": "markdown",
   "metadata": {},
   "source": [
    "## Use the Pandas library to do statistics on tabular data.\n",
    "\n",
    "*   Pandas is a widely-used Python library for statistics, particularly on tabular data.\n",
    "*   Borrows many features from R's dataframes.\n",
    "    *   A 2-dimenstional table whose columns have names\n",
    "        and potentially have different data types."
   ]
  },
  {
   "cell_type": "markdown",
   "metadata": {},
   "source": [
    "Goals:\n",
    "\n",
    "*   Load it with `import pandas as pd`.\n",
    "*   Read a Comma Separate Values (CSV) data file with `pandas.read_csv`.\n",
    "    *   Argument is the name of the file to be read.\n",
    "    *   Assign result to a variable to store the data that was read."
   ]
  },
  {
   "cell_type": "code",
   "execution_count": 24,
   "metadata": {},
   "outputs": [],
   "source": [
    "import pandas as pd"
   ]
  },
  {
   "cell_type": "code",
   "execution_count": 27,
   "metadata": {},
   "outputs": [],
   "source": [
    "data_fn = '../data/tasmania-births-1790-1799.csv.bz2'"
   ]
  },
  {
   "cell_type": "markdown",
   "metadata": {},
   "source": [
    "> ## File Not Found\n",
    ">\n",
    "> Our data directory is stored in a subdirectory called `data` off the parent directory. \n",
    "> Similaryly, notebooks are in `notebooks`. To get at the data from the notebook we use:\n",
    "> `../data/births-1790-1799.csv.bz2`."
   ]
  },
  {
   "cell_type": "code",
   "execution_count": 28,
   "metadata": {},
   "outputs": [
    {
     "data": {
      "text/html": [
       "<div>\n",
       "<style scoped>\n",
       "    .dataframe tbody tr th:only-of-type {\n",
       "        vertical-align: middle;\n",
       "    }\n",
       "\n",
       "    .dataframe tbody tr th {\n",
       "        vertical-align: top;\n",
       "    }\n",
       "\n",
       "    .dataframe thead th {\n",
       "        text-align: right;\n",
       "    }\n",
       "</style>\n",
       "<table border=\"1\" class=\"dataframe\">\n",
       "  <thead>\n",
       "    <tr style=\"text-align: right;\">\n",
       "      <th></th>\n",
       "      <th>NI_BIRTH_DATE</th>\n",
       "      <th>NI_BIRTH_DATE.1</th>\n",
       "      <th>NI_GENDER</th>\n",
       "      <th>NI_NAME_FACET</th>\n",
       "      <th>NI_MOTHER</th>\n",
       "      <th>NI_FATHER</th>\n",
       "      <th>NI_REG_YEAR</th>\n",
       "      <th>NI_REG_PLACE</th>\n",
       "    </tr>\n",
       "  </thead>\n",
       "  <tbody>\n",
       "    <tr>\n",
       "      <th>0</th>\n",
       "      <td>1799-12-01</td>\n",
       "      <td>Dec 1799</td>\n",
       "      <td>Male</td>\n",
       "      <td>Smith, Thomas</td>\n",
       "      <td>Smith, Mary</td>\n",
       "      <td>Smith, Name Not Recorded</td>\n",
       "      <td>1816</td>\n",
       "      <td>Hobart</td>\n",
       "    </tr>\n",
       "    <tr>\n",
       "      <th>1</th>\n",
       "      <td>1797-01-01</td>\n",
       "      <td>1797</td>\n",
       "      <td>Female</td>\n",
       "      <td>Burn, Elizabeth</td>\n",
       "      <td>Burn, Mary</td>\n",
       "      <td>Burn, Name Not Recorded</td>\n",
       "      <td>1816</td>\n",
       "      <td>Hobart</td>\n",
       "    </tr>\n",
       "    <tr>\n",
       "      <th>2</th>\n",
       "      <td>1799-01-01</td>\n",
       "      <td>1799</td>\n",
       "      <td>Male</td>\n",
       "      <td>Surname Not Recorded, Robert New-norfolk</td>\n",
       "      <td>Name, Not Recorded</td>\n",
       "      <td>Surname Not Recorded, Name Not Recorded</td>\n",
       "      <td>1819</td>\n",
       "      <td>Hobart</td>\n",
       "    </tr>\n",
       "    <tr>\n",
       "      <th>3</th>\n",
       "      <td>1797-01-01</td>\n",
       "      <td>1797</td>\n",
       "      <td>Female</td>\n",
       "      <td>Davey, Lucy Margaret</td>\n",
       "      <td>Davey, Margaret</td>\n",
       "      <td>Davey, Thomas</td>\n",
       "      <td>1821</td>\n",
       "      <td>Hobart</td>\n",
       "    </tr>\n",
       "    <tr>\n",
       "      <th>4</th>\n",
       "      <td>1798-01-01</td>\n",
       "      <td>1798</td>\n",
       "      <td>Male</td>\n",
       "      <td>Day, Thomas</td>\n",
       "      <td>Name, Not Recorded</td>\n",
       "      <td>Day, Name Not Recorded</td>\n",
       "      <td>1831</td>\n",
       "      <td>Hobart</td>\n",
       "    </tr>\n",
       "    <tr>\n",
       "      <th>5</th>\n",
       "      <td>1799-12-25</td>\n",
       "      <td>25 Dec 1799</td>\n",
       "      <td>Female</td>\n",
       "      <td>Styles, Elizabeth</td>\n",
       "      <td>Styles, Elizabeth</td>\n",
       "      <td>Styles, Name Not Recorded</td>\n",
       "      <td>1835</td>\n",
       "      <td>Hobart</td>\n",
       "    </tr>\n",
       "  </tbody>\n",
       "</table>\n",
       "</div>"
      ],
      "text/plain": [
       "  NI_BIRTH_DATE NI_BIRTH_DATE.1 NI_GENDER  \\\n",
       "0    1799-12-01        Dec 1799      Male   \n",
       "1    1797-01-01            1797    Female   \n",
       "2    1799-01-01            1799      Male   \n",
       "3    1797-01-01            1797    Female   \n",
       "4    1798-01-01            1798      Male   \n",
       "5    1799-12-25     25 Dec 1799    Female   \n",
       "\n",
       "                              NI_NAME_FACET           NI_MOTHER  \\\n",
       "0                             Smith, Thomas         Smith, Mary   \n",
       "1                           Burn, Elizabeth          Burn, Mary   \n",
       "2  Surname Not Recorded, Robert New-norfolk  Name, Not Recorded   \n",
       "3                      Davey, Lucy Margaret     Davey, Margaret   \n",
       "4                               Day, Thomas  Name, Not Recorded   \n",
       "5                         Styles, Elizabeth   Styles, Elizabeth   \n",
       "\n",
       "                                 NI_FATHER  NI_REG_YEAR NI_REG_PLACE  \n",
       "0                 Smith, Name Not Recorded         1816       Hobart  \n",
       "1                  Burn, Name Not Recorded         1816       Hobart  \n",
       "2  Surname Not Recorded, Name Not Recorded         1819       Hobart  \n",
       "3                            Davey, Thomas         1821       Hobart  \n",
       "4                   Day, Name Not Recorded         1831       Hobart  \n",
       "5                Styles, Name Not Recorded         1835       Hobart  "
      ]
     },
     "execution_count": 28,
     "metadata": {},
     "output_type": "execute_result"
    }
   ],
   "source": [
    "data = pd.read_csv(data_fn)\n",
    "data"
   ]
  },
  {
   "cell_type": "markdown",
   "metadata": {},
   "source": [
    "*   The columns in a dataframe are the observed variables, and the rows are the observations.\n",
    "*   Pandas uses backslash `\\` to show wrapped lines when output is too wide to fit the screen."
   ]
  },
  {
   "cell_type": "markdown",
   "metadata": {},
   "source": [
    "## Use `index_col` to specify that a column's values should be used as row headings.\n",
    "\n",
    "*   Row headings are numbers (0 and 1 in this case).\n",
    "*   Really want to index by date of birth (`NI_BIRTH_DATE`).\n",
    "*   Pass the name of the column to `read_csv` as its `index_col` parameter to do this."
   ]
  },
  {
   "cell_type": "code",
   "execution_count": 29,
   "metadata": {},
   "outputs": [],
   "source": [
    "index_col = 'NI_BIRTH_DATE'"
   ]
  },
  {
   "cell_type": "code",
   "execution_count": 30,
   "metadata": {},
   "outputs": [],
   "source": [
    "data = pd.read_csv(data_fn, index_col=index_col)"
   ]
  },
  {
   "cell_type": "markdown",
   "metadata": {},
   "source": [
    "## Call `head` and `tail` on the dataframe to look at the start and end of the table\n",
    "\n",
    "Use `data.head?` to see the optional arguments "
   ]
  },
  {
   "cell_type": "code",
   "execution_count": 33,
   "metadata": {},
   "outputs": [],
   "source": [
    "# Show the first 5 rows of the data"
   ]
  },
  {
   "cell_type": "code",
   "execution_count": 34,
   "metadata": {},
   "outputs": [],
   "source": [
    "# Show the last 3 rows of the data"
   ]
  },
  {
   "cell_type": "markdown",
   "metadata": {},
   "source": [
    "## Use `DataFrame.info` to find out more about a dataframe."
   ]
  },
  {
   "cell_type": "code",
   "execution_count": 21,
   "metadata": {},
   "outputs": [],
   "source": [
    "# Get info"
   ]
  },
  {
   "cell_type": "markdown",
   "metadata": {},
   "source": [
    "*   This is a `DataFrame`\n",
    "*   Two rows named `'Australia'` and `'New Zealand'`\n",
    "*   Twelve columns, each of which has two actual 64-bit floating point values.\n",
    "    *   We will talk later about null values, which are used to represent missing observations.\n",
    "*   Uses 208 bytes of memory.\n"
   ]
  },
  {
   "cell_type": "markdown",
   "metadata": {},
   "source": [
    "## The `DataFrame.columns` property stores information about the dataframe's columns.\n",
    "\n",
    "*   Note that this is a data property, *not* a method.\n",
    "    *   Like `math.pi`.\n",
    "    *   So do not use `()` to try to call it.\n",
    "*   Called a *member variable*, or just *member*."
   ]
  },
  {
   "cell_type": "code",
   "execution_count": 22,
   "metadata": {},
   "outputs": [],
   "source": [
    "# Show the data frame columns"
   ]
  },
  {
   "cell_type": "markdown",
   "metadata": {},
   "source": [
    "## Use `DataFrame.T` to transpose a dataframe.\n",
    "\n",
    "*   Sometimes want to treat columns as rows and vice versa.\n",
    "*   Transpose (written `.T`) doesn't copy the data, just changes the program's view of it.\n",
    "*   Like `columns`, it is a member variable.\n"
   ]
  },
  {
   "cell_type": "markdown",
   "metadata": {},
   "source": [
    "## Use `DataFrame.describe` to get summary statistics about data.\n",
    "\n",
    "DataFrame.describe() gets the summary statistics of only the columns that have numerical data. \n",
    "All other columns are ignored, unless you use the argument `include='all'`.\n"
   ]
  },
  {
   "cell_type": "code",
   "execution_count": 45,
   "metadata": {},
   "outputs": [],
   "source": [
    "# Call describe on the data here"
   ]
  },
  {
   "cell_type": "markdown",
   "metadata": {},
   "source": [
    "## Writing Data\n",
    " \n",
    "As well as the `read_csv` function for reading data from a file,\n",
    "Pandas provides a `to_csv` function to write dataframes to files.\n",
    "Applying what you've learned about reading from files,\n",
    "write one of your dataframes to a file called `processed.csv`.\n",
    "You can use `help` to get information on how to use `to_csv`."
   ]
  },
  {
   "cell_type": "code",
   "execution_count": 23,
   "metadata": {},
   "outputs": [],
   "source": [
    "# Write out a dataframe to a csv file"
   ]
  },
  {
   "cell_type": "markdown",
   "metadata": {},
   "source": [
    "# Where to?\n",
    "\n",
    "All about [DataFrames](DataFrames.ipynb)."
   ]
  },
  {
   "cell_type": "markdown",
   "metadata": {},
   "source": [
    "### Questions:\n",
    "- \"How can I read tabular data?\"\n",
    "\n",
    "### Objectives:\n",
    "- \"Import the Pandas library.\"\n",
    "- \"Use Pandas to load a simple CSV data set.\"\n",
    "- \"Get some basic information about a Pandas DataFrame.\"\n",
    "\n",
    "### Keypoints:\n",
    "- \"Use the Pandas library to get basic statistics out of tabular data.\"\n",
    "- \"Use `index_col` to specify that a column's values should be used as row headings.\"\n",
    "- \"Use `DataFrame.info` to find out more about a dataframe.\"\n",
    "- \"The `DataFrame.columns` variable stores information about the dataframe's columns.\"\n",
    "- \"Use `DataFrame.T` to transpose a dataframe.\"\n",
    "- \"Use `DataFrame.describe` to get summary statistics about data.\""
   ]
  },
  {
   "cell_type": "markdown",
   "metadata": {},
   "source": [
    "## References\n",
    "\n",
    "### Software Carpentry\n",
    "* [Reading Tabular Data](http://swcarpentry.github.io/python-novice-gapminder/07-reading-tabular/)"
   ]
  }
 ],
 "metadata": {
  "kernelspec": {
   "display_name": "Python 3",
   "language": "python",
   "name": "python3"
  },
  "language_info": {
   "codemirror_mode": {
    "name": "ipython",
    "version": 3
   },
   "file_extension": ".py",
   "mimetype": "text/x-python",
   "name": "python",
   "nbconvert_exporter": "python",
   "pygments_lexer": "ipython3",
   "version": "3.7.2"
  }
 },
 "nbformat": 4,
 "nbformat_minor": 2
}
