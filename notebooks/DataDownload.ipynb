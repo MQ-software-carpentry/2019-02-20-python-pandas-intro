{
 "cells": [
  {
   "cell_type": "markdown",
   "metadata": {},
   "source": [
    "# Data preparation\n",
    "\n",
    "Download the large csv file and split into smaller csv files based off decade.\n",
    "\n",
    "Source (including data column types): https://data.gov.au/data/dataset/tasmanian-births-1803-1933"
   ]
  },
  {
   "cell_type": "code",
   "execution_count": 1,
   "metadata": {},
   "outputs": [],
   "source": [
    "import os\n",
    "import pandas as pd"
   ]
  },
  {
   "cell_type": "code",
   "execution_count": 2,
   "metadata": {},
   "outputs": [],
   "source": [
    "data_url = 'https://data.gov.au/dataset/c8a4d43f-7ab5-40c4-817e-7babdc43e0f2/resource/8d710758-26ce-46ca-972d-5067db3a75d2/download/births.csv'"
   ]
  },
  {
   "cell_type": "code",
   "execution_count": 3,
   "metadata": {},
   "outputs": [
    {
     "name": "stderr",
     "output_type": "stream",
     "text": [
      "/storage/miniconda3/envs/carpentries/lib/python3.7/site-packages/IPython/core/interactiveshell.py:3020: DtypeWarning: Columns (23) have mixed types. Specify dtype option on import or set low_memory=False.\n",
      "  interactivity=interactivity, compiler=compiler, result=result)\n"
     ]
    }
   ],
   "source": [
    "# Read the data in from the url - NOTE: large file, be patient\n",
    "df0 = pd.read_csv(data_url)"
   ]
  },
  {
   "cell_type": "code",
   "execution_count": 4,
   "metadata": {},
   "outputs": [],
   "source": [
    "# Convert the birth date to a datetime and save as the index; convert errors to `NaT`\n",
    "df0.index = pd.to_datetime(df0.NI_BIRTH_DATE, errors='coerce')"
   ]
  },
  {
   "cell_type": "code",
   "execution_count": 5,
   "metadata": {},
   "outputs": [
    {
     "data": {
      "text/html": [
       "<div>\n",
       "<style scoped>\n",
       "    .dataframe tbody tr th:only-of-type {\n",
       "        vertical-align: middle;\n",
       "    }\n",
       "\n",
       "    .dataframe tbody tr th {\n",
       "        vertical-align: top;\n",
       "    }\n",
       "\n",
       "    .dataframe thead th {\n",
       "        text-align: right;\n",
       "    }\n",
       "</style>\n",
       "<table border=\"1\" class=\"dataframe\">\n",
       "  <thead>\n",
       "    <tr style=\"text-align: right;\">\n",
       "      <th></th>\n",
       "      <th>NI_URL</th>\n",
       "      <th>NI_BIRTH_DATE</th>\n",
       "      <th>TASMANIAN</th>\n",
       "      <th>NI_GENDER</th>\n",
       "      <th>NI_NAME_FACET</th>\n",
       "      <th>NI_MOTHER</th>\n",
       "      <th>NI_FATHER</th>\n",
       "      <th>NI_INDEX</th>\n",
       "      <th>NI_REG_YEAR</th>\n",
       "      <th>PUBDATE_RANGE</th>\n",
       "      <th>...</th>\n",
       "      <th>RELEVANCE_SORT</th>\n",
       "      <th>PUBDATE</th>\n",
       "      <th>FORMAT</th>\n",
       "      <th>ACCESS_LEVEL</th>\n",
       "      <th>NI_REG_PLACE</th>\n",
       "      <th>NI_YEAR</th>\n",
       "      <th>NI_CATKEY</th>\n",
       "      <th>FORMAT_LINCTAS</th>\n",
       "      <th>TITLE</th>\n",
       "      <th>NI_BAPTISM_DATE</th>\n",
       "    </tr>\n",
       "    <tr>\n",
       "      <th>NI_BIRTH_DATE</th>\n",
       "      <th></th>\n",
       "      <th></th>\n",
       "      <th></th>\n",
       "      <th></th>\n",
       "      <th></th>\n",
       "      <th></th>\n",
       "      <th></th>\n",
       "      <th></th>\n",
       "      <th></th>\n",
       "      <th></th>\n",
       "      <th></th>\n",
       "      <th></th>\n",
       "      <th></th>\n",
       "      <th></th>\n",
       "      <th></th>\n",
       "      <th></th>\n",
       "      <th></th>\n",
       "      <th></th>\n",
       "      <th></th>\n",
       "      <th></th>\n",
       "      <th></th>\n",
       "    </tr>\n",
       "  </thead>\n",
       "  <tbody>\n",
       "    <tr>\n",
       "      <th>1870-11-19</th>\n",
       "      <td>&amp;lt;subfield_u&amp;gt;https://stors.tas.gov.au/RGD...</td>\n",
       "      <td>19 Nov 1870</td>\n",
       "      <td>Published in Tasmania|About Tasmania|By a Tasm...</td>\n",
       "      <td>Female</td>\n",
       "      <td>Dennis, Mary</td>\n",
       "      <td>Sutcliffe, Maria</td>\n",
       "      <td>Dennis, Christopher</td>\n",
       "      <td>Births</td>\n",
       "      <td>1870</td>\n",
       "      <td>1870</td>\n",
       "      <td>...</td>\n",
       "      <td>0</td>\n",
       "      <td>1870</td>\n",
       "      <td>VIEW</td>\n",
       "      <td>0|1|2|3|4</td>\n",
       "      <td>Launceston</td>\n",
       "      <td>1870</td>\n",
       "      <td>(Sirsi) 927365</td>\n",
       "      <td>Names Index</td>\n",
       "      <td>Dennis, Mary</td>\n",
       "      <td>NaN</td>\n",
       "    </tr>\n",
       "    <tr>\n",
       "      <th>1870-11-20</th>\n",
       "      <td>&amp;lt;subfield_u&amp;gt;https://stors.tas.gov.au/RGD...</td>\n",
       "      <td>20 Nov 1870</td>\n",
       "      <td>Published in Tasmania|About Tasmania|By a Tasm...</td>\n",
       "      <td>Female</td>\n",
       "      <td>West, Edith Jane</td>\n",
       "      <td>Laing, Margaret</td>\n",
       "      <td>West, William</td>\n",
       "      <td>Births</td>\n",
       "      <td>1870</td>\n",
       "      <td>1870</td>\n",
       "      <td>...</td>\n",
       "      <td>0</td>\n",
       "      <td>1870</td>\n",
       "      <td>VIEW</td>\n",
       "      <td>0|1|2|3|4</td>\n",
       "      <td>Launceston</td>\n",
       "      <td>1870</td>\n",
       "      <td>(Sirsi) 927366</td>\n",
       "      <td>Names Index</td>\n",
       "      <td>West, Edith Jane</td>\n",
       "      <td>NaN</td>\n",
       "    </tr>\n",
       "  </tbody>\n",
       "</table>\n",
       "<p>2 rows × 24 columns</p>\n",
       "</div>"
      ],
      "text/plain": [
       "                                                          NI_URL  \\\n",
       "NI_BIRTH_DATE                                                      \n",
       "1870-11-19     &lt;subfield_u&gt;https://stors.tas.gov.au/RGD...   \n",
       "1870-11-20     &lt;subfield_u&gt;https://stors.tas.gov.au/RGD...   \n",
       "\n",
       "              NI_BIRTH_DATE  \\\n",
       "NI_BIRTH_DATE                 \n",
       "1870-11-19      19 Nov 1870   \n",
       "1870-11-20      20 Nov 1870   \n",
       "\n",
       "                                                       TASMANIAN NI_GENDER  \\\n",
       "NI_BIRTH_DATE                                                                \n",
       "1870-11-19     Published in Tasmania|About Tasmania|By a Tasm...    Female   \n",
       "1870-11-20     Published in Tasmania|About Tasmania|By a Tasm...    Female   \n",
       "\n",
       "                  NI_NAME_FACET         NI_MOTHER            NI_FATHER  \\\n",
       "NI_BIRTH_DATE                                                            \n",
       "1870-11-19         Dennis, Mary  Sutcliffe, Maria  Dennis, Christopher   \n",
       "1870-11-20     West, Edith Jane   Laing, Margaret        West, William   \n",
       "\n",
       "              NI_INDEX  NI_REG_YEAR  PUBDATE_RANGE  ... RELEVANCE_SORT  \\\n",
       "NI_BIRTH_DATE                                       ...                  \n",
       "1870-11-19      Births         1870           1870  ...              0   \n",
       "1870-11-20      Births         1870           1870  ...              0   \n",
       "\n",
       "              PUBDATE FORMAT ACCESS_LEVEL  NI_REG_PLACE  NI_YEAR  \\\n",
       "NI_BIRTH_DATE                                                      \n",
       "1870-11-19       1870   VIEW    0|1|2|3|4    Launceston     1870   \n",
       "1870-11-20       1870   VIEW    0|1|2|3|4    Launceston     1870   \n",
       "\n",
       "                    NI_CATKEY FORMAT_LINCTAS             TITLE NI_BAPTISM_DATE  \n",
       "NI_BIRTH_DATE                                                                   \n",
       "1870-11-19     (Sirsi) 927365    Names Index      Dennis, Mary             NaN  \n",
       "1870-11-20     (Sirsi) 927366    Names Index  West, Edith Jane             NaN  \n",
       "\n",
       "[2 rows x 24 columns]"
      ]
     },
     "execution_count": 5,
     "metadata": {},
     "output_type": "execute_result"
    }
   ],
   "source": [
    "df0.head(2)"
   ]
  },
  {
   "cell_type": "code",
   "execution_count": 6,
   "metadata": {},
   "outputs": [],
   "source": [
    "# Get the start of the decade for the earliest record\n",
    "start_decade = (df0.index.min().year // 10) * 10\n",
    "\n",
    "# Get the decade past the last record\n",
    "end_decade = (((df0.index.max().year // 10) + 1) * 10)"
   ]
  },
  {
   "cell_type": "code",
   "execution_count": 7,
   "metadata": {},
   "outputs": [],
   "source": [
    "# Get a list of the decades as a date range\n",
    "decades = pd.date_range(f'{start_decade}-01-01', f'{end_decade}-01-01', freq='10AS')"
   ]
  },
  {
   "cell_type": "code",
   "execution_count": 8,
   "metadata": {},
   "outputs": [
    {
     "name": "stdout",
     "output_type": "stream",
     "text": [
      "Saving ../data/births-1770-1779.csv....done\n",
      "Saving ../data/births-1780-1789.csv....done\n",
      "Saving ../data/births-1790-1799.csv....done\n",
      "Saving ../data/births-1800-1809.csv....done\n",
      "Saving ../data/births-1810-1819.csv....done\n",
      "Saving ../data/births-1820-1829.csv....done\n",
      "Saving ../data/births-1830-1839.csv....done\n",
      "Saving ../data/births-1840-1849.csv....done\n",
      "Saving ../data/births-1850-1859.csv....done\n",
      "Saving ../data/births-1860-1869.csv....done\n",
      "Saving ../data/births-1870-1879.csv....done\n",
      "Saving ../data/births-1880-1889.csv....done\n",
      "Saving ../data/births-1890-1899.csv....done\n",
      "Saving ../data/births-1900-1909.csv....done\n",
      "Saving ../data/births-1910-1919.csv....done\n",
      "Saving ../data/births-1920-1929.csv....done\n",
      "Saving ../data/births-1930-1939.csv....done\n"
     ]
    }
   ],
   "source": [
    "# Loop the decades (note the zip trick)\n",
    "for start_date, end_date in zip(decades, decades[1:]):\n",
    "    # Subtract one day from decade to take us back to end of previous\n",
    "    end_date = end_date - pd.Timedelta('1 day')\n",
    "    \n",
    "    # Get a view of the data with just the records in this decade\n",
    "    df1 = df0[start_date.isoformat():end_date.isoformat()]\n",
    "    \n",
    "    # Create a filename to save the new csv\n",
    "    save_fn = f'../data/tasmania-births-{start_date.year}-{end_date.year:}.csv'\n",
    "    \n",
    "    print(f\"Saving {save_fn}....\", end='')\n",
    "    \n",
    "    # Save the records\n",
    "    df1.to_csv(save_fn)\n",
    "    \n",
    "    print('done')"
   ]
  },
  {
   "cell_type": "code",
   "execution_count": 13,
   "metadata": {},
   "outputs": [
    {
     "name": "stdout",
     "output_type": "stream",
     "text": [
      "total 105M\n",
      "4.0K -rw-r--r-- 1 wtgee wtgee  819 Feb 19 16:51 births-1770-1779.csv\n",
      "4.0K -rw-r--r-- 1 wtgee wtgee 1.9K Feb 19 16:51 births-1780-1789.csv\n",
      "4.0K -rw-r--r-- 1 wtgee wtgee 3.4K Feb 19 16:51 births-1790-1799.csv\n",
      " 16K -rw-r--r-- 1 wtgee wtgee  14K Feb 19 16:51 births-1800-1809.csv\n",
      "276K -rw-r--r-- 1 wtgee wtgee 275K Feb 19 16:51 births-1810-1819.csv\n",
      "1.3M -rw-r--r-- 1 wtgee wtgee 1.3M Feb 19 16:51 births-1820-1829.csv\n",
      "3.3M -rw-r--r-- 1 wtgee wtgee 3.3M Feb 19 16:51 births-1830-1839.csv\n",
      "7.9M -rw-r--r-- 1 wtgee wtgee 7.9M Feb 19 16:51 births-1840-1849.csv\n",
      " 14M -rw-r--r-- 1 wtgee wtgee  14M Feb 19 16:51 births-1850-1859.csv\n",
      " 16M -rw-r--r-- 1 wtgee wtgee  16M Feb 19 16:52 births-1860-1869.csv\n",
      " 17M -rw-r--r-- 1 wtgee wtgee  17M Feb 19 16:52 births-1870-1879.csv\n",
      " 23M -rw-r--r-- 1 wtgee wtgee  23M Feb 19 16:52 births-1880-1889.csv\n",
      " 24M -rw-r--r-- 1 wtgee wtgee  24M Feb 19 16:52 births-1890-1899.csv\n",
      " 64K -rw-r--r-- 1 wtgee wtgee  63K Feb 19 16:52 births-1900-1909.csv\n",
      " 44K -rw-r--r-- 1 wtgee wtgee  44K Feb 19 16:52 births-1910-1919.csv\n",
      " 52K -rw-r--r-- 1 wtgee wtgee  52K Feb 19 16:52 births-1920-1929.csv\n",
      " 12K -rw-r--r-- 1 wtgee wtgee  12K Feb 19 16:52 births-1930-1939.csv\n"
     ]
    }
   ],
   "source": [
    "# Show a directory listing\n",
    "!ls -lrsth ../data"
   ]
  },
  {
   "cell_type": "code",
   "execution_count": 15,
   "metadata": {},
   "outputs": [],
   "source": [
    "# Those are big, let's compress\n",
    "!bzip2 ../data/*.csv"
   ]
  },
  {
   "cell_type": "code",
   "execution_count": 16,
   "metadata": {},
   "outputs": [
    {
     "name": "stdout",
     "output_type": "stream",
     "text": [
      "total 8.0M\n",
      "572K -rw-r--r-- 1 wtgee wtgee 570K Feb 19 16:51 births-1840-1849.csv.bz2\n",
      "240K -rw-r--r-- 1 wtgee wtgee 237K Feb 19 16:51 births-1830-1839.csv.bz2\n",
      " 92K -rw-r--r-- 1 wtgee wtgee  91K Feb 19 16:51 births-1820-1829.csv.bz2\n",
      " 24K -rw-r--r-- 1 wtgee wtgee  21K Feb 19 16:51 births-1810-1819.csv.bz2\n",
      "4.0K -rw-r--r-- 1 wtgee wtgee 2.1K Feb 19 16:51 births-1800-1809.csv.bz2\n",
      "4.0K -rw-r--r-- 1 wtgee wtgee  949 Feb 19 16:51 births-1790-1799.csv.bz2\n",
      "4.0K -rw-r--r-- 1 wtgee wtgee  743 Feb 19 16:51 births-1780-1789.csv.bz2\n",
      "4.0K -rw-r--r-- 1 wtgee wtgee  533 Feb 19 16:51 births-1770-1779.csv.bz2\n",
      "1.1M -rw-r--r-- 1 wtgee wtgee 1.1M Feb 19 16:51 births-1850-1859.csv.bz2\n",
      "1.3M -rw-r--r-- 1 wtgee wtgee 1.3M Feb 19 16:52 births-1870-1879.csv.bz2\n",
      "1.2M -rw-r--r-- 1 wtgee wtgee 1.2M Feb 19 16:52 births-1860-1869.csv.bz2\n",
      "1.8M -rw-r--r-- 1 wtgee wtgee 1.8M Feb 19 16:52 births-1880-1889.csv.bz2\n",
      "4.0K -rw-r--r-- 1 wtgee wtgee 2.1K Feb 19 16:52 births-1930-1939.csv.bz2\n",
      "8.0K -rw-r--r-- 1 wtgee wtgee 6.4K Feb 19 16:52 births-1920-1929.csv.bz2\n",
      "8.0K -rw-r--r-- 1 wtgee wtgee 5.4K Feb 19 16:52 births-1910-1919.csv.bz2\n",
      "8.0K -rw-r--r-- 1 wtgee wtgee 7.0K Feb 19 16:52 births-1900-1909.csv.bz2\n",
      "2.0M -rw-r--r-- 1 wtgee wtgee 2.0M Feb 19 16:52 births-1890-1899.csv.bz2\n"
     ]
    }
   ],
   "source": [
    "# Show a directory listing\n",
    "!ls -lrsth ../data"
   ]
  }
 ],
 "metadata": {
  "kernelspec": {
   "display_name": "Python 3",
   "language": "python",
   "name": "python3"
  },
  "language_info": {
   "codemirror_mode": {
    "name": "ipython",
    "version": 3
   },
   "file_extension": ".py",
   "mimetype": "text/x-python",
   "name": "python",
   "nbconvert_exporter": "python",
   "pygments_lexer": "ipython3",
   "version": "3.7.2"
  }
 },
 "nbformat": 4,
 "nbformat_minor": 2
}
