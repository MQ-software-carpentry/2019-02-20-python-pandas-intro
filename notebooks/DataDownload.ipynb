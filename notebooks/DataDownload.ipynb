{
 "cells": [
  {
   "cell_type": "markdown",
   "metadata": {},
   "source": [
    "# Data preparation\n",
    "\n",
    "Download the large csv file and split into smaller csv files based off decade.\n",
    "\n",
    "Source (including data column types): https://data.gov.au/data/dataset/tasmanian-births-1803-1933"
   ]
  },
  {
   "cell_type": "code",
   "execution_count": 32,
   "metadata": {},
   "outputs": [],
   "source": [
    "import os\n",
    "import pandas as pd"
   ]
  },
  {
   "cell_type": "code",
   "execution_count": 2,
   "metadata": {},
   "outputs": [],
   "source": [
    "data_url = 'https://data.gov.au/dataset/c8a4d43f-7ab5-40c4-817e-7babdc43e0f2/resource/8d710758-26ce-46ca-972d-5067db3a75d2/download/births.csv'"
   ]
  },
  {
   "cell_type": "code",
   "execution_count": 3,
   "metadata": {},
   "outputs": [],
   "source": [
    "columns = [\n",
    "    'NI_BIRTH_DATE',\n",
    "    'NI_GENDER',\n",
    "    'NI_NAME_FACET',\n",
    "    'NI_MOTHER',\n",
    "    'NI_FATHER',\n",
    "    'NI_REG_YEAR',\n",
    "    'NI_REG_PLACE',\n",
    "]"
   ]
  },
  {
   "cell_type": "code",
   "execution_count": 4,
   "metadata": {},
   "outputs": [],
   "source": [
    "# Read the data in from the url - NOTE: large file, be patient\n",
    "df0 = pd.read_csv(data_url, usecols=columns)"
   ]
  },
  {
   "cell_type": "code",
   "execution_count": 5,
   "metadata": {},
   "outputs": [],
   "source": [
    "# Convert the birth date to a datetime and save as the index; convert errors to `NaT`\n",
    "df0.index = pd.to_datetime(df0.NI_BIRTH_DATE, errors='coerce')"
   ]
  },
  {
   "cell_type": "code",
   "execution_count": 6,
   "metadata": {},
   "outputs": [
    {
     "data": {
      "text/html": [
       "<div>\n",
       "<style scoped>\n",
       "    .dataframe tbody tr th:only-of-type {\n",
       "        vertical-align: middle;\n",
       "    }\n",
       "\n",
       "    .dataframe tbody tr th {\n",
       "        vertical-align: top;\n",
       "    }\n",
       "\n",
       "    .dataframe thead th {\n",
       "        text-align: right;\n",
       "    }\n",
       "</style>\n",
       "<table border=\"1\" class=\"dataframe\">\n",
       "  <thead>\n",
       "    <tr style=\"text-align: right;\">\n",
       "      <th></th>\n",
       "      <th>NI_BIRTH_DATE</th>\n",
       "      <th>NI_GENDER</th>\n",
       "      <th>NI_NAME_FACET</th>\n",
       "      <th>NI_MOTHER</th>\n",
       "      <th>NI_FATHER</th>\n",
       "      <th>NI_REG_YEAR</th>\n",
       "      <th>NI_REG_PLACE</th>\n",
       "    </tr>\n",
       "    <tr>\n",
       "      <th>NI_BIRTH_DATE</th>\n",
       "      <th></th>\n",
       "      <th></th>\n",
       "      <th></th>\n",
       "      <th></th>\n",
       "      <th></th>\n",
       "      <th></th>\n",
       "      <th></th>\n",
       "    </tr>\n",
       "  </thead>\n",
       "  <tbody>\n",
       "    <tr>\n",
       "      <th>1870-11-19</th>\n",
       "      <td>19 Nov 1870</td>\n",
       "      <td>Female</td>\n",
       "      <td>Dennis, Mary</td>\n",
       "      <td>Sutcliffe, Maria</td>\n",
       "      <td>Dennis, Christopher</td>\n",
       "      <td>1870</td>\n",
       "      <td>Launceston</td>\n",
       "    </tr>\n",
       "    <tr>\n",
       "      <th>1870-11-20</th>\n",
       "      <td>20 Nov 1870</td>\n",
       "      <td>Female</td>\n",
       "      <td>West, Edith Jane</td>\n",
       "      <td>Laing, Margaret</td>\n",
       "      <td>West, William</td>\n",
       "      <td>1870</td>\n",
       "      <td>Launceston</td>\n",
       "    </tr>\n",
       "  </tbody>\n",
       "</table>\n",
       "</div>"
      ],
      "text/plain": [
       "              NI_BIRTH_DATE NI_GENDER     NI_NAME_FACET         NI_MOTHER  \\\n",
       "NI_BIRTH_DATE                                                               \n",
       "1870-11-19      19 Nov 1870    Female      Dennis, Mary  Sutcliffe, Maria   \n",
       "1870-11-20      20 Nov 1870    Female  West, Edith Jane   Laing, Margaret   \n",
       "\n",
       "                         NI_FATHER  NI_REG_YEAR NI_REG_PLACE  \n",
       "NI_BIRTH_DATE                                                 \n",
       "1870-11-19     Dennis, Christopher         1870   Launceston  \n",
       "1870-11-20           West, William         1870   Launceston  "
      ]
     },
     "execution_count": 6,
     "metadata": {},
     "output_type": "execute_result"
    }
   ],
   "source": [
    "df0.head(2)"
   ]
  },
  {
   "cell_type": "code",
   "execution_count": 26,
   "metadata": {},
   "outputs": [],
   "source": [
    "# Get the start of the decade for the earliest record\n",
    "start_decade = (df0.index.min().year // 10) * 10\n",
    "\n",
    "# Get the decade past the last record\n",
    "end_decade = (((df0.index.max().year // 10) + 1) * 10)"
   ]
  },
  {
   "cell_type": "code",
   "execution_count": 27,
   "metadata": {},
   "outputs": [],
   "source": [
    "# Get a list of the decades as a date range\n",
    "decades = pd.date_range(f'{start_decade}-01-01', f'{end_decade}-01-01', freq='10AS')"
   ]
  },
  {
   "cell_type": "code",
   "execution_count": 28,
   "metadata": {},
   "outputs": [
    {
     "name": "stdout",
     "output_type": "stream",
     "text": [
      "Saving ../data/tasmania-births-1770-1779.csv....done\n",
      "Saving ../data/tasmania-births-1780-1789.csv....done\n",
      "Saving ../data/tasmania-births-1790-1799.csv....done\n",
      "Saving ../data/tasmania-births-1800-1809.csv....done\n",
      "Saving ../data/tasmania-births-1810-1819.csv....done\n",
      "Saving ../data/tasmania-births-1820-1829.csv....done\n",
      "Saving ../data/tasmania-births-1830-1839.csv....done\n",
      "Saving ../data/tasmania-births-1840-1849.csv....done\n",
      "Saving ../data/tasmania-births-1850-1859.csv....done\n",
      "Saving ../data/tasmania-births-1860-1869.csv....done\n",
      "Saving ../data/tasmania-births-1870-1879.csv....done\n",
      "Saving ../data/tasmania-births-1880-1889.csv....done\n",
      "Saving ../data/tasmania-births-1890-1899.csv....done\n",
      "Saving ../data/tasmania-births-1900-1909.csv....done\n",
      "Saving ../data/tasmania-births-1910-1919.csv....done\n",
      "Saving ../data/tasmania-births-1920-1929.csv....done\n",
      "Saving ../data/tasmania-births-1930-1939.csv....done\n"
     ]
    }
   ],
   "source": [
    "# Loop the decades (note the zip trick)\n",
    "for start_date, end_date in zip(decades, decades[1:]):\n",
    "    # Subtract one day from decade to take us back to end of previous\n",
    "    end_date = end_date - pd.Timedelta('1 day')\n",
    "    \n",
    "    # Get a view of the data with just the records in this decade\n",
    "    df1 = df0[start_date.isoformat():end_date.isoformat()]\n",
    "    \n",
    "    # Create a filename to save the new csv\n",
    "    save_fn = f'../data/tasmania-births-{start_date.year}-{end_date.year:}.csv'\n",
    "    \n",
    "    print(f\"Saving {save_fn}....\", end='')\n",
    "    \n",
    "    # Save the records\n",
    "    df1.to_csv(save_fn)\n",
    "    \n",
    "    print('done')"
   ]
  },
  {
   "cell_type": "code",
   "execution_count": 29,
   "metadata": {},
   "outputs": [
    {
     "name": "stdout",
     "output_type": "stream",
     "text": [
      "total 21M\n",
      "4.0K -rw-r--r-- 1 wtgee wtgee  205 Feb 19 23:24 tasmania-births-1770-1779.csv\n",
      "4.0K -rw-r--r-- 1 wtgee wtgee  423 Feb 19 23:24 tasmania-births-1780-1789.csv\n",
      "4.0K -rw-r--r-- 1 wtgee wtgee  717 Feb 19 23:24 tasmania-births-1790-1799.csv\n",
      "4.0K -rw-r--r-- 1 wtgee wtgee 2.8K Feb 19 23:24 tasmania-births-1800-1809.csv\n",
      " 56K -rw-r--r-- 1 wtgee wtgee  54K Feb 19 23:24 tasmania-births-1810-1819.csv\n",
      "248K -rw-r--r-- 1 wtgee wtgee 246K Feb 19 23:24 tasmania-births-1820-1829.csv\n",
      "644K -rw-r--r-- 1 wtgee wtgee 641K Feb 19 23:24 tasmania-births-1830-1839.csv\n",
      "1.6M -rw-r--r-- 1 wtgee wtgee 1.6M Feb 19 23:24 tasmania-births-1840-1849.csv\n",
      "2.8M -rw-r--r-- 1 wtgee wtgee 2.8M Feb 19 23:24 tasmania-births-1850-1859.csv\n",
      "3.1M -rw-r--r-- 1 wtgee wtgee 3.1M Feb 19 23:24 tasmania-births-1860-1869.csv\n",
      "3.3M -rw-r--r-- 1 wtgee wtgee 3.3M Feb 19 23:24 tasmania-births-1870-1879.csv\n",
      "4.5M -rw-r--r-- 1 wtgee wtgee 4.5M Feb 19 23:24 tasmania-births-1880-1889.csv\n",
      "5.0M -rw-r--r-- 1 wtgee wtgee 4.9M Feb 19 23:24 tasmania-births-1890-1899.csv\n",
      " 16K -rw-r--r-- 1 wtgee wtgee  13K Feb 19 23:24 tasmania-births-1900-1909.csv\n",
      " 12K -rw-r--r-- 1 wtgee wtgee 8.9K Feb 19 23:24 tasmania-births-1910-1919.csv\n",
      " 12K -rw-r--r-- 1 wtgee wtgee  11K Feb 19 23:24 tasmania-births-1920-1929.csv\n",
      "4.0K -rw-r--r-- 1 wtgee wtgee 2.3K Feb 19 23:24 tasmania-births-1930-1939.csv\n"
     ]
    }
   ],
   "source": [
    "# Show a directory listing\n",
    "!ls -lrsth ../data"
   ]
  },
  {
   "cell_type": "code",
   "execution_count": 30,
   "metadata": {},
   "outputs": [],
   "source": [
    "# Those are big, let's compress\n",
    "!bzip2 ../data/*.csv"
   ]
  },
  {
   "cell_type": "code",
   "execution_count": 31,
   "metadata": {},
   "outputs": [
    {
     "name": "stdout",
     "output_type": "stream",
     "text": [
      "total 3.0M\n",
      "368K -rw-r--r-- 1 wtgee wtgee 366K Feb 19 23:24 tasmania-births-1850-1859.csv.bz2\n",
      "200K -rw-r--r-- 1 wtgee wtgee 199K Feb 19 23:24 tasmania-births-1840-1849.csv.bz2\n",
      " 84K -rw-r--r-- 1 wtgee wtgee  84K Feb 19 23:24 tasmania-births-1830-1839.csv.bz2\n",
      " 36K -rw-r--r-- 1 wtgee wtgee  34K Feb 19 23:24 tasmania-births-1820-1829.csv.bz2\n",
      " 12K -rw-r--r-- 1 wtgee wtgee 8.3K Feb 19 23:24 tasmania-births-1810-1819.csv.bz2\n",
      "4.0K -rw-r--r-- 1 wtgee wtgee  870 Feb 19 23:24 tasmania-births-1800-1809.csv.bz2\n",
      "4.0K -rw-r--r-- 1 wtgee wtgee  345 Feb 19 23:24 tasmania-births-1790-1799.csv.bz2\n",
      "4.0K -rw-r--r-- 1 wtgee wtgee  260 Feb 19 23:24 tasmania-births-1780-1789.csv.bz2\n",
      "4.0K -rw-r--r-- 1 wtgee wtgee  185 Feb 19 23:24 tasmania-births-1770-1779.csv.bz2\n",
      "668K -rw-r--r-- 1 wtgee wtgee 665K Feb 19 23:24 tasmania-births-1880-1889.csv.bz2\n",
      "460K -rw-r--r-- 1 wtgee wtgee 460K Feb 19 23:24 tasmania-births-1870-1879.csv.bz2\n",
      "416K -rw-r--r-- 1 wtgee wtgee 413K Feb 19 23:24 tasmania-births-1860-1869.csv.bz2\n",
      "4.0K -rw-r--r-- 1 wtgee wtgee  989 Feb 19 23:24 tasmania-births-1930-1939.csv.bz2\n",
      "4.0K -rw-r--r-- 1 wtgee wtgee 3.1K Feb 19 23:24 tasmania-births-1920-1929.csv.bz2\n",
      "4.0K -rw-r--r-- 1 wtgee wtgee 2.7K Feb 19 23:24 tasmania-births-1910-1919.csv.bz2\n",
      "4.0K -rw-r--r-- 1 wtgee wtgee 3.4K Feb 19 23:24 tasmania-births-1900-1909.csv.bz2\n",
      "752K -rw-r--r-- 1 wtgee wtgee 751K Feb 19 23:24 tasmania-births-1890-1899.csv.bz2\n"
     ]
    }
   ],
   "source": [
    "# Show a directory listing\n",
    "!ls -lrsth ../data"
   ]
  },
  {
   "cell_type": "markdown",
   "metadata": {},
   "source": [
    "## Gapminder data"
   ]
  },
  {
   "cell_type": "code",
   "execution_count": 46,
   "metadata": {},
   "outputs": [],
   "source": [
    "gapminder_url = 'https://raw.githubusercontent.com/wtgee/python-novice-gapminder/gh-pages/data/gapminder_gdp_africa.csv'"
   ]
  },
  {
   "cell_type": "code",
   "execution_count": 47,
   "metadata": {},
   "outputs": [
    {
     "name": "stdout",
     "output_type": "stream",
     "text": [
      "--2019-02-20 02:33:36--  https://raw.githubusercontent.com/wtgee/python-novice-gapminder/gh-pages/data/gapminder_gdp_africa.csv\n",
      "Resolving raw.githubusercontent.com (raw.githubusercontent.com)... 151.101.192.133, 151.101.128.133, 151.101.64.133, ...\n",
      "Connecting to raw.githubusercontent.com (raw.githubusercontent.com)|151.101.192.133|:443... connected.\n",
      "HTTP request sent, awaiting response... 200 OK\n",
      "Length: 8095 (7.9K) [text/plain]\n",
      "Saving to: ‘../data/gapminder_gdp_africa.csv’\n",
      "\n",
      "../data/gapminder_g 100%[===================>]   7.91K  --.-KB/s    in 0.008s  \n",
      "\n",
      "2019-02-20 02:33:36 (957 KB/s) - ‘../data/gapminder_gdp_africa.csv’ saved [8095/8095]\n",
      "\n"
     ]
    }
   ],
   "source": [
    "!wget $gapminder_url -O '../data/gapminder_gdp_africa.csv'"
   ]
  }
 ],
 "metadata": {
  "kernelspec": {
   "display_name": "Python 3",
   "language": "python",
   "name": "python3"
  },
  "language_info": {
   "codemirror_mode": {
    "name": "ipython",
    "version": 3
   },
   "file_extension": ".py",
   "mimetype": "text/x-python",
   "name": "python",
   "nbconvert_exporter": "python",
   "pygments_lexer": "ipython3",
   "version": "3.7.2"
  }
 },
 "nbformat": 4,
 "nbformat_minor": 2
}
