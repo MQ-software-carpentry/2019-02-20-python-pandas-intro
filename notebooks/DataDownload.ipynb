{
 "cells": [
  {
   "cell_type": "markdown",
   "metadata": {},
   "source": [
    "# Data preparation\n",
    "\n",
    "Download the large csv file and split into smaller csv files based off decade.\n",
    "\n",
    "Source (including data column types): https://data.gov.au/data/dataset/tasmanian-births-1803-1933"
   ]
  },
  {
   "cell_type": "code",
   "execution_count": null,
   "metadata": {},
   "outputs": [],
   "source": [
    "import os\n",
    "import pandas as pd"
   ]
  },
  {
   "cell_type": "code",
   "execution_count": null,
   "metadata": {},
   "outputs": [],
   "source": [
    "data_url = 'https://data.gov.au/dataset/c8a4d43f-7ab5-40c4-817e-7babdc43e0f2/resource/8d710758-26ce-46ca-972d-5067db3a75d2/download/births.csv'"
   ]
  },
  {
   "cell_type": "code",
   "execution_count": null,
   "metadata": {},
   "outputs": [],
   "source": [
    "columns = [\n",
    "    'NI_BIRTH_DATE',s\n",
    "    'NI_GENDER',\n",
    "    'NI_NAME_FACET',\n",
    "    'NI_MOTHER',\n",
    "    'NI_FATHER',\n",
    "    'NI_REG_YEAR',\n",
    "    'NI_REG_PLACE',\n",
    "]"
   ]
  },
  {
   "cell_type": "code",
   "execution_count": null,
   "metadata": {},
   "outputs": [],
   "source": [
    "# Read the data in from the url - NOTE: large file, be patient\n",
    "df0 = pd.read_csv(data_url, usecols=columns)"
   ]
  },
  {
   "cell_type": "code",
   "execution_count": null,
   "metadata": {},
   "outputs": [],
   "source": [
    "# Convert the birth date to a datetime and save as the index; convert errors to `NaT`\n",
    "df0.index = pd.to_datetime(df0.NI_BIRTH_DATE, errors='coerce')"
   ]
  },
  {
   "cell_type": "code",
   "execution_count": null,
   "metadata": {},
   "outputs": [],
   "source": [
    "df0.head(2)"
   ]
  },
  {
   "cell_type": "code",
   "execution_count": null,
   "metadata": {},
   "outputs": [],
   "source": [
    "# Get the start of the decade for the earliest record\n",
    "start_decade = (df0.index.min().year // 10) * 10\n",
    "\n",
    "# Get the decade past the last record\n",
    "end_decade = (((df0.index.max().year // 10) + 1) * 10)"
   ]
  },
  {
   "cell_type": "code",
   "execution_count": null,
   "metadata": {},
   "outputs": [],
   "source": [
    "# Get a list of the decades as a date range\n",
    "decades = pd.date_range(f'{start_decade}-01-01', f'{end_decade}-01-01', freq='10AS')"
   ]
  },
  {
   "cell_type": "code",
   "execution_count": null,
   "metadata": {},
   "outputs": [],
   "source": [
    "# Loop the decades (note the zip trick)\n",
    "for start_date, end_date in zip(decades, decades[1:]):\n",
    "    # Subtract one day from decade to take us back to end of previous\n",
    "    end_date = end_date - pd.Timedelta('1 day')\n",
    "    \n",
    "    # Get a view of the data with just the records in this decade\n",
    "    df1 = df0[start_date.isoformat():end_date.isoformat()]\n",
    "    \n",
    "    # Create a filename to save the new csv\n",
    "    save_fn = f'../data/tasmania-births-{start_date.year}-{end_date.year:}.csv'\n",
    "    \n",
    "    print(f\"Saving {save_fn}....\", end='')\n",
    "    \n",
    "    # Save the records\n",
    "    df1.to_csv(save_fn)\n",
    "    \n",
    "    print('done')"
   ]
  },
  {
   "cell_type": "code",
   "execution_count": null,
   "metadata": {},
   "outputs": [],
   "source": [
    "# Show a directory listing\n",
    "!ls -lrsth ../data"
   ]
  },
  {
   "cell_type": "code",
   "execution_count": null,
   "metadata": {},
   "outputs": [],
   "source": [
    "# Those are big, let's compress\n",
    "!bzip2 ../data/*.csv"
   ]
  },
  {
   "cell_type": "code",
   "execution_count": null,
   "metadata": {},
   "outputs": [],
   "source": [
    "# Show a directory listing\n",
    "!ls -lrsth ../data"
   ]
  },
  {
   "cell_type": "markdown",
   "metadata": {},
   "source": [
    "## Gapminder data"
   ]
  },
  {
   "cell_type": "code",
   "execution_count": null,
   "metadata": {},
   "outputs": [],
   "source": [
    "gapminder_url = 'https://raw.githubusercontent.com/wtgee/python-novice-gapminder/gh-pages/data/gapminder_gdp_africa.csv'"
   ]
  },
  {
   "cell_type": "code",
   "execution_count": null,
   "metadata": {},
   "outputs": [],
   "source": [
    "!wget $gapminder_url -O '../data/gapminder_gdp_africa.csv'"
   ]
  }
 ],
 "metadata": {
  "kernelspec": {
   "display_name": "Python 3",
   "language": "python",
   "name": "python3"
  },
  "language_info": {
   "codemirror_mode": {
    "name": "ipython",
    "version": 3
   },
   "file_extension": ".py",
   "mimetype": "text/x-python",
   "name": "python",
   "nbconvert_exporter": "python",
   "pygments_lexer": "ipython3",
   "version": "3.7.2"
  }
 },
 "nbformat": 4,
 "nbformat_minor": 2
}
