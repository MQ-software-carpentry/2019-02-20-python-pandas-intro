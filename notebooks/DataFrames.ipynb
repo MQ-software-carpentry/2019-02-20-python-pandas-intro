{
 "cells": [
  {
   "cell_type": "markdown",
   "metadata": {},
   "source": [
    "## Series\n",
    "\n",
    "A one-dimensional array of **indexed** data."
   ]
  },
  {
   "cell_type": "code",
   "execution_count": 1,
   "metadata": {},
   "outputs": [],
   "source": [
    "import numpy as np\n",
    "import pandas as pd\n",
    "import matplotlib.pyplot as plt\n",
    "plt.style.use('seaborn-poster')"
   ]
  },
  {
   "cell_type": "code",
   "execution_count": 2,
   "metadata": {},
   "outputs": [
    {
     "data": {
      "text/plain": [
       "array([0.2, 0.4, 0.6, 0.8, 1. ])"
      ]
     },
     "execution_count": 2,
     "metadata": {},
     "output_type": "execute_result"
    }
   ],
   "source": [
    "# Create a numpy array\n",
    "input_array = np.array([0.2, 0.4, 0.6, 0.8, 1.0])\n",
    "input_array"
   ]
  },
  {
   "cell_type": "code",
   "execution_count": 3,
   "metadata": {},
   "outputs": [
    {
     "data": {
      "text/plain": [
       "array([0.2, 0.4, 0.6])"
      ]
     },
     "execution_count": 3,
     "metadata": {},
     "output_type": "execute_result"
    }
   ],
   "source": [
    "# Slice the first three elements\n",
    "input_array[0:3]"
   ]
  },
  {
   "cell_type": "code",
   "execution_count": 4,
   "metadata": {},
   "outputs": [
    {
     "data": {
      "text/plain": [
       "0    0.2\n",
       "1    0.4\n",
       "2    0.6\n",
       "3    0.8\n",
       "4    1.0\n",
       "dtype: float64"
      ]
     },
     "execution_count": 4,
     "metadata": {},
     "output_type": "execute_result"
    }
   ],
   "source": [
    "# Make a Series from array\n",
    "data = pd.Series(input_array)\n",
    "data"
   ]
  },
  {
   "cell_type": "code",
   "execution_count": 5,
   "metadata": {},
   "outputs": [
    {
     "data": {
      "text/plain": [
       "0    0.2\n",
       "1    0.4\n",
       "2    0.6\n",
       "dtype: float64"
      ]
     },
     "execution_count": 5,
     "metadata": {},
     "output_type": "execute_result"
    }
   ],
   "source": [
    "# Slice first three elements\n",
    "data[0:3]"
   ]
  },
  {
   "cell_type": "code",
   "execution_count": 6,
   "metadata": {},
   "outputs": [
    {
     "data": {
      "text/plain": [
       "a    0.2\n",
       "b    0.4\n",
       "c    0.6\n",
       "d    0.8\n",
       "e    1.0\n",
       "dtype: float64"
      ]
     },
     "execution_count": 6,
     "metadata": {},
     "output_type": "execute_result"
    }
   ],
   "source": [
    "# Explicit index\n",
    "data = pd.Series(input_array, index=['a','b','c','d','e'])\n",
    "data"
   ]
  },
  {
   "cell_type": "code",
   "execution_count": 7,
   "metadata": {},
   "outputs": [
    {
     "data": {
      "text/plain": [
       "0.4"
      ]
     },
     "execution_count": 7,
     "metadata": {},
     "output_type": "execute_result"
    }
   ],
   "source": [
    "# We can access an element by an index\n",
    "data['b']"
   ]
  },
  {
   "cell_type": "code",
   "execution_count": 8,
   "metadata": {},
   "outputs": [
    {
     "data": {
      "text/plain": [
       "a    0.2\n",
       "b    0.4\n",
       "c    0.6\n",
       "dtype: float64"
      ]
     },
     "execution_count": 8,
     "metadata": {},
     "output_type": "execute_result"
    }
   ],
   "source": [
    "# We can also slice by the index\n",
    "data[:'c']"
   ]
  },
  {
   "cell_type": "markdown",
   "metadata": {},
   "source": [
    "We can also "
   ]
  },
  {
   "cell_type": "code",
   "execution_count": 9,
   "metadata": {},
   "outputs": [],
   "source": [
    "animal_types = ['cats', 'dogs', 'guinea pigs', 'birds', 'other']\n",
    "num_rescued = np.random.randint(0, 100, 5)"
   ]
  },
  {
   "cell_type": "code",
   "execution_count": 10,
   "metadata": {},
   "outputs": [
    {
     "data": {
      "text/plain": [
       "cats           23\n",
       "dogs           39\n",
       "guinea pigs    37\n",
       "birds          25\n",
       "other           7\n",
       "dtype: int64"
      ]
     },
     "execution_count": 10,
     "metadata": {},
     "output_type": "execute_result"
    }
   ],
   "source": [
    "animals = pd.Series(num_rescued, index=animal_types)\n",
    "animals"
   ]
  },
  {
   "cell_type": "code",
   "execution_count": 11,
   "metadata": {},
   "outputs": [
    {
     "data": {
      "text/plain": [
       "dogs    39\n",
       "dtype: int64"
      ]
     },
     "execution_count": 11,
     "metadata": {},
     "output_type": "execute_result"
    }
   ],
   "source": [
    "# Select the rows that match the maximum value (probably only one)\n",
    "animals[animals == animals.max()]"
   ]
  },
  {
   "cell_type": "code",
   "execution_count": 12,
   "metadata": {},
   "outputs": [
    {
     "data": {
      "text/plain": [
       "<matplotlib.axes._subplots.AxesSubplot at 0x7f3c88882a20>"
      ]
     },
     "execution_count": 12,
     "metadata": {},
     "output_type": "execute_result"
    },
    {
     "data": {
      "image/png": "[encoded data removed]",
      "text/plain": [
       "<Figure size 432x288 with 1 Axes>"
      ]
     },
     "metadata": {
      "needs_background": "light"
     },
     "output_type": "display_data"
    }
   ],
   "source": [
    "# Make a bar plot\n",
    "animals.plot(kind='bar', title='Rescued animals')"
   ]
  },
  {
   "cell_type": "markdown",
   "metadata": {},
   "source": [
    "## DataFrames\n",
    "\n",
    "A `DataFrame` is a collection of `Series`;\n",
    "\n",
    "The DataFrame is the way Pandas represents a table, and Series is the data-structure\n",
    "Pandas use to represent a column.\n",
    "\n",
    "Pandas is built on top of the `numpy` library, which in practice means that\n",
    "most of the methods defined for Numpy Arrays apply to Pandas Series/DataFrames.\n",
    "\n",
    "What makes Pandas so attractive is the powerful interface to access individual records\n",
    "of the table, proper handling of missing values, and relational-databases operations\n",
    "between DataFrames."
   ]
  },
  {
   "cell_type": "markdown",
   "metadata": {},
   "source": [
    "## Selecting values\n",
    "\n",
    "To access a value at the position `[i,j]` of a DataFrame, we have two options, depending on\n",
    "what is the meaning of `i` in use.\n",
    "Remember that a DataFrame provides a *index* as a way to identify the rows of the table;\n",
    "a row, then, has a *position* inside the table as well as a *label*, which\n",
    "uniquely identifies its *entry* in the DataFrame."
   ]
  },
  {
   "cell_type": "markdown",
   "metadata": {},
   "source": [
    "## Use `DataFrame.iloc[..., ...]` to select values by their (entry) position\n",
    "\n",
    "*   Can specify location by numerical index analogously to 2D version of character selection in strings."
   ]
  },
  {
   "cell_type": "code",
   "execution_count": 13,
   "metadata": {},
   "outputs": [],
   "source": [
    "data_fn = '../data/tasmania-births-1850-1859.csv.bz2'\n",
    "data = pd.read_csv(data_fn, index_col='NI_REG_PLACE')"
   ]
  },
  {
   "cell_type": "code",
   "execution_count": 14,
   "metadata": {},
   "outputs": [
    {
     "data": {
      "text/html": [
       "<div>\n",
       "<style scoped>\n",
       "    .dataframe tbody tr th:only-of-type {\n",
       "        vertical-align: middle;\n",
       "    }\n",
       "\n",
       "    .dataframe tbody tr th {\n",
       "        vertical-align: top;\n",
       "    }\n",
       "\n",
       "    .dataframe thead th {\n",
       "        text-align: right;\n",
       "    }\n",
       "</style>\n",
       "<table border=\"1\" class=\"dataframe\">\n",
       "  <thead>\n",
       "    <tr style=\"text-align: right;\">\n",
       "      <th></th>\n",
       "      <th>NI_BIRTH_DATE</th>\n",
       "      <th>NI_BIRTH_DATE.1</th>\n",
       "      <th>NI_GENDER</th>\n",
       "      <th>NI_NAME_FACET</th>\n",
       "      <th>NI_MOTHER</th>\n",
       "      <th>NI_FATHER</th>\n",
       "      <th>NI_REG_YEAR</th>\n",
       "    </tr>\n",
       "    <tr>\n",
       "      <th>NI_REG_PLACE</th>\n",
       "      <th></th>\n",
       "      <th></th>\n",
       "      <th></th>\n",
       "      <th></th>\n",
       "      <th></th>\n",
       "      <th></th>\n",
       "      <th></th>\n",
       "    </tr>\n",
       "  </thead>\n",
       "  <tbody>\n",
       "    <tr>\n",
       "      <th>Hobart</th>\n",
       "      <td>1850-01-26</td>\n",
       "      <td>26 Jan 1850</td>\n",
       "      <td>Female</td>\n",
       "      <td>Burgess, Sarah</td>\n",
       "      <td>Foreman, Elizabeth</td>\n",
       "      <td>Burgess, John</td>\n",
       "      <td>1850</td>\n",
       "    </tr>\n",
       "    <tr>\n",
       "      <th>Hobart</th>\n",
       "      <td>1850-01-02</td>\n",
       "      <td>02 Jan 1850</td>\n",
       "      <td>Male</td>\n",
       "      <td>Barnett, Robert</td>\n",
       "      <td>Griffin, Margaret</td>\n",
       "      <td>Barnett, William</td>\n",
       "      <td>1850</td>\n",
       "    </tr>\n",
       "    <tr>\n",
       "      <th>Hobart</th>\n",
       "      <td>1850-01-02</td>\n",
       "      <td>02 Jan 1850</td>\n",
       "      <td>Male</td>\n",
       "      <td>Hinsby, Frederick Henry Ware</td>\n",
       "      <td>Ware, Lucy</td>\n",
       "      <td>Hinsby, Henry</td>\n",
       "      <td>1850</td>\n",
       "    </tr>\n",
       "    <tr>\n",
       "      <th>Hobart</th>\n",
       "      <td>1850-01-10</td>\n",
       "      <td>10 Jan 1850</td>\n",
       "      <td>Male</td>\n",
       "      <td>Quested, Given Name Not Recorded</td>\n",
       "      <td>Mcnamarra, Ann</td>\n",
       "      <td>Quested, James</td>\n",
       "      <td>1850</td>\n",
       "    </tr>\n",
       "    <tr>\n",
       "      <th>Hobart</th>\n",
       "      <td>1850-01-10</td>\n",
       "      <td>10 Jan 1850</td>\n",
       "      <td>Female</td>\n",
       "      <td>Rowlands, Given Name Not Recorded</td>\n",
       "      <td>Jones, Virtue</td>\n",
       "      <td>Rowlands, Martin</td>\n",
       "      <td>1850</td>\n",
       "    </tr>\n",
       "  </tbody>\n",
       "</table>\n",
       "</div>"
      ],
      "text/plain": [
       "             NI_BIRTH_DATE NI_BIRTH_DATE.1 NI_GENDER  \\\n",
       "NI_REG_PLACE                                           \n",
       "Hobart          1850-01-26     26 Jan 1850    Female   \n",
       "Hobart          1850-01-02     02 Jan 1850      Male   \n",
       "Hobart          1850-01-02     02 Jan 1850      Male   \n",
       "Hobart          1850-01-10     10 Jan 1850      Male   \n",
       "Hobart          1850-01-10     10 Jan 1850    Female   \n",
       "\n",
       "                                  NI_NAME_FACET           NI_MOTHER  \\\n",
       "NI_REG_PLACE                                                          \n",
       "Hobart                           Burgess, Sarah  Foreman, Elizabeth   \n",
       "Hobart                          Barnett, Robert   Griffin, Margaret   \n",
       "Hobart             Hinsby, Frederick Henry Ware          Ware, Lucy   \n",
       "Hobart         Quested, Given Name Not Recorded      Mcnamarra, Ann   \n",
       "Hobart        Rowlands, Given Name Not Recorded       Jones, Virtue   \n",
       "\n",
       "                     NI_FATHER  NI_REG_YEAR  \n",
       "NI_REG_PLACE                                 \n",
       "Hobart           Burgess, John         1850  \n",
       "Hobart        Barnett, William         1850  \n",
       "Hobart           Hinsby, Henry         1850  \n",
       "Hobart          Quested, James         1850  \n",
       "Hobart        Rowlands, Martin         1850  "
      ]
     },
     "execution_count": 14,
     "metadata": {},
     "output_type": "execute_result"
    }
   ],
   "source": [
    "# Show the top records\n",
    "data.head()"
   ]
  },
  {
   "cell_type": "code",
   "execution_count": 15,
   "metadata": {},
   "outputs": [
    {
     "name": "stdout",
     "output_type": "stream",
     "text": [
      "NI_BIRTH_DATE                        1850-01-02\n",
      "NI_BIRTH_DATE.1                     02 Jan 1850\n",
      "NI_GENDER                                  Male\n",
      "NI_NAME_FACET      Hinsby, Frederick Henry Ware\n",
      "NI_MOTHER                            Ware, Lucy\n",
      "NI_FATHER                         Hinsby, Henry\n",
      "NI_REG_YEAR                                1850\n",
      "Name: Hobart, dtype: object\n"
     ]
    }
   ],
   "source": [
    "# Display the third record (index position 2 from 0)\n",
    "print(data.iloc[2])"
   ]
  },
  {
   "cell_type": "markdown",
   "metadata": {},
   "source": [
    "## Use `DataFrame.loc[..., ...]` to select values by their (entry) label.\n",
    "\n",
    "*   Can specify location by row name analogously to 2D version of dictionary keys."
   ]
  },
  {
   "cell_type": "code",
   "execution_count": 16,
   "metadata": {},
   "outputs": [
    {
     "data": {
      "text/plain": [
       "NI_REG_PLACE\n",
       "Launceston             Holaday, Mary\n",
       "Launceston        Flaxman, Ann Eliza\n",
       "Launceston        Everett, Catherine\n",
       "Launceston         Mansfield, Phoebe\n",
       "Launceston        Mcdonald, Margaret\n",
       "Launceston             Delorkin, Ann\n",
       "Launceston              Foster, Jane\n",
       "Launceston            Doran, Bridget\n",
       "Launceston          Moore, Sarah Ann\n",
       "Launceston    Lane, Catherine Louisa\n",
       "Name: NI_MOTHER, dtype: object"
      ]
     },
     "execution_count": 16,
     "metadata": {},
     "output_type": "execute_result"
    }
   ],
   "source": [
    "# Show the mother columns for all the matches for exactly Jan 01, 1791\n",
    "data.loc[\"Launceston\", \"NI_MOTHER\"].head(10)"
   ]
  },
  {
   "cell_type": "markdown",
   "metadata": {},
   "source": [
    "## Use `:` on its own to mean all columns or all rows.\n",
    "\n",
    "*   Just like Python's usual slicing notation."
   ]
  },
  {
   "cell_type": "code",
   "execution_count": 17,
   "metadata": {},
   "outputs": [
    {
     "data": {
      "text/html": [
       "<div>\n",
       "<style scoped>\n",
       "    .dataframe tbody tr th:only-of-type {\n",
       "        vertical-align: middle;\n",
       "    }\n",
       "\n",
       "    .dataframe tbody tr th {\n",
       "        vertical-align: top;\n",
       "    }\n",
       "\n",
       "    .dataframe thead th {\n",
       "        text-align: right;\n",
       "    }\n",
       "</style>\n",
       "<table border=\"1\" class=\"dataframe\">\n",
       "  <thead>\n",
       "    <tr style=\"text-align: right;\">\n",
       "      <th></th>\n",
       "      <th>NI_BIRTH_DATE</th>\n",
       "      <th>NI_BIRTH_DATE.1</th>\n",
       "      <th>NI_GENDER</th>\n",
       "      <th>NI_NAME_FACET</th>\n",
       "      <th>NI_MOTHER</th>\n",
       "      <th>NI_FATHER</th>\n",
       "      <th>NI_REG_YEAR</th>\n",
       "    </tr>\n",
       "    <tr>\n",
       "      <th>NI_REG_PLACE</th>\n",
       "      <th></th>\n",
       "      <th></th>\n",
       "      <th></th>\n",
       "      <th></th>\n",
       "      <th></th>\n",
       "      <th></th>\n",
       "      <th></th>\n",
       "    </tr>\n",
       "  </thead>\n",
       "  <tbody>\n",
       "    <tr>\n",
       "      <th>Launceston</th>\n",
       "      <td>1852-12-03</td>\n",
       "      <td>03 Dec 1852</td>\n",
       "      <td>Male</td>\n",
       "      <td>Taylor, William Joseph</td>\n",
       "      <td>Holaday, Mary</td>\n",
       "      <td>Taylor, Edward</td>\n",
       "      <td>1853</td>\n",
       "    </tr>\n",
       "    <tr>\n",
       "      <th>Launceston</th>\n",
       "      <td>1852-12-31</td>\n",
       "      <td>31 Dec 1852</td>\n",
       "      <td>Male</td>\n",
       "      <td>Wood, Louis Wm De-gouge</td>\n",
       "      <td>Flaxman, Ann Eliza</td>\n",
       "      <td>Wood, Louis</td>\n",
       "      <td>1853</td>\n",
       "    </tr>\n",
       "  </tbody>\n",
       "</table>\n",
       "</div>"
      ],
      "text/plain": [
       "             NI_BIRTH_DATE NI_BIRTH_DATE.1 NI_GENDER            NI_NAME_FACET  \\\n",
       "NI_REG_PLACE                                                                    \n",
       "Launceston      1852-12-03     03 Dec 1852      Male   Taylor, William Joseph   \n",
       "Launceston      1852-12-31     31 Dec 1852      Male  Wood, Louis Wm De-gouge   \n",
       "\n",
       "                       NI_MOTHER       NI_FATHER  NI_REG_YEAR  \n",
       "NI_REG_PLACE                                                   \n",
       "Launceston         Holaday, Mary  Taylor, Edward         1853  \n",
       "Launceston    Flaxman, Ann Eliza     Wood, Louis         1853  "
      ]
     },
     "execution_count": 17,
     "metadata": {},
     "output_type": "execute_result"
    }
   ],
   "source": [
    "# Get all the columns for a certain date\n",
    "data.loc['Launceston', :].head(2)"
   ]
  },
  {
   "cell_type": "markdown",
   "metadata": {},
   "source": [
    "*   Would get the same result printing `data.loc[\"Launceston\"]` (without a second index)."
   ]
  },
  {
   "cell_type": "code",
   "execution_count": 18,
   "metadata": {},
   "outputs": [
    {
     "data": {
      "text/html": [
       "<div>\n",
       "<style scoped>\n",
       "    .dataframe tbody tr th:only-of-type {\n",
       "        vertical-align: middle;\n",
       "    }\n",
       "\n",
       "    .dataframe tbody tr th {\n",
       "        vertical-align: top;\n",
       "    }\n",
       "\n",
       "    .dataframe thead th {\n",
       "        text-align: right;\n",
       "    }\n",
       "</style>\n",
       "<table border=\"1\" class=\"dataframe\">\n",
       "  <thead>\n",
       "    <tr style=\"text-align: right;\">\n",
       "      <th></th>\n",
       "      <th>NI_BIRTH_DATE</th>\n",
       "      <th>NI_BIRTH_DATE.1</th>\n",
       "      <th>NI_GENDER</th>\n",
       "      <th>NI_NAME_FACET</th>\n",
       "      <th>NI_MOTHER</th>\n",
       "      <th>NI_FATHER</th>\n",
       "      <th>NI_REG_YEAR</th>\n",
       "    </tr>\n",
       "    <tr>\n",
       "      <th>NI_REG_PLACE</th>\n",
       "      <th></th>\n",
       "      <th></th>\n",
       "      <th></th>\n",
       "      <th></th>\n",
       "      <th></th>\n",
       "      <th></th>\n",
       "      <th></th>\n",
       "    </tr>\n",
       "  </thead>\n",
       "  <tbody>\n",
       "    <tr>\n",
       "      <th>Launceston</th>\n",
       "      <td>1852-12-03</td>\n",
       "      <td>03 Dec 1852</td>\n",
       "      <td>Male</td>\n",
       "      <td>Taylor, William Joseph</td>\n",
       "      <td>Holaday, Mary</td>\n",
       "      <td>Taylor, Edward</td>\n",
       "      <td>1853</td>\n",
       "    </tr>\n",
       "    <tr>\n",
       "      <th>Launceston</th>\n",
       "      <td>1852-12-31</td>\n",
       "      <td>31 Dec 1852</td>\n",
       "      <td>Male</td>\n",
       "      <td>Wood, Louis Wm De-gouge</td>\n",
       "      <td>Flaxman, Ann Eliza</td>\n",
       "      <td>Wood, Louis</td>\n",
       "      <td>1853</td>\n",
       "    </tr>\n",
       "  </tbody>\n",
       "</table>\n",
       "</div>"
      ],
      "text/plain": [
       "             NI_BIRTH_DATE NI_BIRTH_DATE.1 NI_GENDER            NI_NAME_FACET  \\\n",
       "NI_REG_PLACE                                                                    \n",
       "Launceston      1852-12-03     03 Dec 1852      Male   Taylor, William Joseph   \n",
       "Launceston      1852-12-31     31 Dec 1852      Male  Wood, Louis Wm De-gouge   \n",
       "\n",
       "                       NI_MOTHER       NI_FATHER  NI_REG_YEAR  \n",
       "NI_REG_PLACE                                                   \n",
       "Launceston         Holaday, Mary  Taylor, Edward         1853  \n",
       "Launceston    Flaxman, Ann Eliza     Wood, Louis         1853  "
      ]
     },
     "execution_count": 18,
     "metadata": {},
     "output_type": "execute_result"
    }
   ],
   "source": [
    "# Could also just do\n",
    "data.loc['Launceston'].head(2)"
   ]
  },
  {
   "cell_type": "markdown",
   "metadata": {},
   "source": [
    "## Select multiple columns or rows using `DataFrame.loc` and a named slice."
   ]
  },
  {
   "cell_type": "code",
   "execution_count": 19,
   "metadata": {},
   "outputs": [
    {
     "data": {
      "text/html": [
       "<div>\n",
       "<style scoped>\n",
       "    .dataframe tbody tr th:only-of-type {\n",
       "        vertical-align: middle;\n",
       "    }\n",
       "\n",
       "    .dataframe tbody tr th {\n",
       "        vertical-align: top;\n",
       "    }\n",
       "\n",
       "    .dataframe thead th {\n",
       "        text-align: right;\n",
       "    }\n",
       "</style>\n",
       "<table border=\"1\" class=\"dataframe\">\n",
       "  <thead>\n",
       "    <tr style=\"text-align: right;\">\n",
       "      <th></th>\n",
       "      <th>NI_NAME_FACET</th>\n",
       "      <th>NI_MOTHER</th>\n",
       "      <th>NI_FATHER</th>\n",
       "    </tr>\n",
       "    <tr>\n",
       "      <th>NI_REG_PLACE</th>\n",
       "      <th></th>\n",
       "      <th></th>\n",
       "      <th></th>\n",
       "    </tr>\n",
       "  </thead>\n",
       "  <tbody>\n",
       "    <tr>\n",
       "      <th>Launceston</th>\n",
       "      <td>Taylor, William Joseph</td>\n",
       "      <td>Holaday, Mary</td>\n",
       "      <td>Taylor, Edward</td>\n",
       "    </tr>\n",
       "    <tr>\n",
       "      <th>Launceston</th>\n",
       "      <td>Wood, Louis Wm De-gouge</td>\n",
       "      <td>Flaxman, Ann Eliza</td>\n",
       "      <td>Wood, Louis</td>\n",
       "    </tr>\n",
       "    <tr>\n",
       "      <th>Launceston</th>\n",
       "      <td>Evans, John</td>\n",
       "      <td>Everett, Catherine</td>\n",
       "      <td>Evans, George</td>\n",
       "    </tr>\n",
       "  </tbody>\n",
       "</table>\n",
       "</div>"
      ],
      "text/plain": [
       "                        NI_NAME_FACET           NI_MOTHER       NI_FATHER\n",
       "NI_REG_PLACE                                                             \n",
       "Launceston     Taylor, William Joseph       Holaday, Mary  Taylor, Edward\n",
       "Launceston    Wood, Louis Wm De-gouge  Flaxman, Ann Eliza     Wood, Louis\n",
       "Launceston                Evans, John  Everett, Catherine   Evans, George"
      ]
     },
     "execution_count": 19,
     "metadata": {},
     "output_type": "execute_result"
    }
   ],
   "source": [
    "data.loc['Launceston', 'NI_NAME_FACET':'NI_FATHER'].head(3)"
   ]
  },
  {
   "cell_type": "markdown",
   "metadata": {},
   "source": [
    "In the above code, we discover that **slicing using `loc` is inclusive at both\n",
    "ends**, which differs from **slicing using `iloc`**, where slicing indicates\n",
    "everything up to but not including the final index. \n"
   ]
  },
  {
   "cell_type": "markdown",
   "metadata": {},
   "source": [
    "## Use comparisons to select data based on value.\n",
    "\n",
    "*   Comparison is applied element by element.\n",
    "*   Returns a similarly-shaped dataframe of `True` and `False`."
   ]
  },
  {
   "cell_type": "code",
   "execution_count": 20,
   "metadata": {},
   "outputs": [
    {
     "data": {
      "text/plain": [
       "1857    3419\n",
       "1859    3415\n",
       "1858    3326\n",
       "1856    3151\n",
       "1855    3139\n",
       "1854    2811\n",
       "1853    2366\n",
       "1851    2260\n",
       "1852    2247\n",
       "1850    1959\n",
       "1860     289\n",
       "1862      11\n",
       "1861       8\n",
       "1871       4\n",
       "1863       4\n",
       "1867       2\n",
       "1866       2\n",
       "1880       1\n",
       "1878       1\n",
       "1868       1\n",
       "1869       1\n",
       "1873       1\n",
       "1870       1\n",
       "1903       1\n",
       "Name: NI_REG_YEAR, dtype: int64"
      ]
     },
     "execution_count": 20,
     "metadata": {},
     "output_type": "execute_result"
    }
   ],
   "source": [
    "# Use a subset of data to keep work clean\n",
    "town_reg_data = data.loc[:, 'NI_REG_YEAR']\n",
    "town_reg_data.value_counts()"
   ]
  },
  {
   "cell_type": "code",
   "execution_count": 21,
   "metadata": {},
   "outputs": [
    {
     "data": {
      "text/plain": [
       "NI_REG_PLACE\n",
       "Hobart    False\n",
       "Hobart    False\n",
       "Hobart    False\n",
       "Hobart    False\n",
       "Hobart    False\n",
       "Name: NI_REG_YEAR, dtype: bool"
      ]
     },
     "execution_count": 21,
     "metadata": {},
     "output_type": "execute_result"
    }
   ],
   "source": [
    "# Show a bool Series that match \n",
    "late_reg_year = town_reg_data > 1860\n",
    "late_reg_year.head()"
   ]
  },
  {
   "cell_type": "markdown",
   "metadata": {},
   "source": [
    "## Select values or NaN using a Boolean mask.\n",
    "\n",
    "*   A frame full of Booleans is sometimes called a *mask* because of how it can be used."
   ]
  },
  {
   "cell_type": "code",
   "execution_count": 22,
   "metadata": {},
   "outputs": [
    {
     "data": {
      "text/html": [
       "<div>\n",
       "<style scoped>\n",
       "    .dataframe tbody tr th:only-of-type {\n",
       "        vertical-align: middle;\n",
       "    }\n",
       "\n",
       "    .dataframe tbody tr th {\n",
       "        vertical-align: top;\n",
       "    }\n",
       "\n",
       "    .dataframe thead th {\n",
       "        text-align: right;\n",
       "    }\n",
       "</style>\n",
       "<table border=\"1\" class=\"dataframe\">\n",
       "  <thead>\n",
       "    <tr style=\"text-align: right;\">\n",
       "      <th></th>\n",
       "      <th>NI_BIRTH_DATE</th>\n",
       "      <th>NI_BIRTH_DATE.1</th>\n",
       "      <th>NI_GENDER</th>\n",
       "      <th>NI_NAME_FACET</th>\n",
       "      <th>NI_MOTHER</th>\n",
       "      <th>NI_FATHER</th>\n",
       "      <th>NI_REG_YEAR</th>\n",
       "    </tr>\n",
       "    <tr>\n",
       "      <th>NI_REG_PLACE</th>\n",
       "      <th></th>\n",
       "      <th></th>\n",
       "      <th></th>\n",
       "      <th></th>\n",
       "      <th></th>\n",
       "      <th></th>\n",
       "      <th></th>\n",
       "    </tr>\n",
       "  </thead>\n",
       "  <tbody>\n",
       "    <tr>\n",
       "      <th>Launceston</th>\n",
       "      <td>1851-09-20</td>\n",
       "      <td>20 Sep 1851</td>\n",
       "      <td>Female</td>\n",
       "      <td>Tregurtha, Julia Sophia</td>\n",
       "      <td>Tregurtha, Elizabeth</td>\n",
       "      <td>Tregurtha, Edward Primrose</td>\n",
       "      <td>1862</td>\n",
       "    </tr>\n",
       "    <tr>\n",
       "      <th>Launceston</th>\n",
       "      <td>1859-11-20</td>\n",
       "      <td>20 Nov 1859</td>\n",
       "      <td>Female</td>\n",
       "      <td>Molloy, Rebecca Eliza</td>\n",
       "      <td>Molloy, Ann</td>\n",
       "      <td>Molloy, Henry</td>\n",
       "      <td>1862</td>\n",
       "    </tr>\n",
       "    <tr>\n",
       "      <th>Launceston</th>\n",
       "      <td>1858-08-05</td>\n",
       "      <td>05 Aug 1858</td>\n",
       "      <td>Female</td>\n",
       "      <td>Carter, Mary Ann</td>\n",
       "      <td>Carter, Margaret</td>\n",
       "      <td>Carter, Robert</td>\n",
       "      <td>1862</td>\n",
       "    </tr>\n",
       "    <tr>\n",
       "      <th>Launceston</th>\n",
       "      <td>1859-12-26</td>\n",
       "      <td>26 Dec 1859</td>\n",
       "      <td>Male</td>\n",
       "      <td>Carter, Robert</td>\n",
       "      <td>Carter, Margaret</td>\n",
       "      <td>Carter, Robert</td>\n",
       "      <td>1862</td>\n",
       "    </tr>\n",
       "    <tr>\n",
       "      <th>Launceston</th>\n",
       "      <td>1859-03-06</td>\n",
       "      <td>06 Mar 1859</td>\n",
       "      <td>Female</td>\n",
       "      <td>Styles, Sarah</td>\n",
       "      <td>Styles, Maria</td>\n",
       "      <td>Styles, Benjamin</td>\n",
       "      <td>1862</td>\n",
       "    </tr>\n",
       "  </tbody>\n",
       "</table>\n",
       "</div>"
      ],
      "text/plain": [
       "             NI_BIRTH_DATE NI_BIRTH_DATE.1 NI_GENDER            NI_NAME_FACET  \\\n",
       "NI_REG_PLACE                                                                    \n",
       "Launceston      1851-09-20     20 Sep 1851    Female  Tregurtha, Julia Sophia   \n",
       "Launceston      1859-11-20     20 Nov 1859    Female    Molloy, Rebecca Eliza   \n",
       "Launceston      1858-08-05     05 Aug 1858    Female         Carter, Mary Ann   \n",
       "Launceston      1859-12-26     26 Dec 1859      Male           Carter, Robert   \n",
       "Launceston      1859-03-06     06 Mar 1859    Female            Styles, Sarah   \n",
       "\n",
       "                         NI_MOTHER                   NI_FATHER  NI_REG_YEAR  \n",
       "NI_REG_PLACE                                                                 \n",
       "Launceston    Tregurtha, Elizabeth  Tregurtha, Edward Primrose         1862  \n",
       "Launceston             Molloy, Ann               Molloy, Henry         1862  \n",
       "Launceston        Carter, Margaret              Carter, Robert         1862  \n",
       "Launceston        Carter, Margaret              Carter, Robert         1862  \n",
       "Launceston           Styles, Maria            Styles, Benjamin         1862  "
      ]
     },
     "execution_count": 22,
     "metadata": {},
     "output_type": "execute_result"
    }
   ],
   "source": [
    "# Show all the data for the late reg years\n",
    "data.loc[late_reg_year].head()"
   ]
  },
  {
   "cell_type": "markdown",
   "metadata": {},
   "source": [
    "## Query for values"
   ]
  },
  {
   "cell_type": "code",
   "execution_count": 23,
   "metadata": {},
   "outputs": [
    {
     "data": {
      "text/plain": [
       "\u001b[0;31mSignature:\u001b[0m \u001b[0mdata\u001b[0m\u001b[0;34m.\u001b[0m\u001b[0mquery\u001b[0m\u001b[0;34m(\u001b[0m\u001b[0mexpr\u001b[0m\u001b[0;34m,\u001b[0m \u001b[0minplace\u001b[0m\u001b[0;34m=\u001b[0m\u001b[0;32mFalse\u001b[0m\u001b[0;34m,\u001b[0m \u001b[0;34m**\u001b[0m\u001b[0mkwargs\u001b[0m\u001b[0;34m)\u001b[0m\u001b[0;34m\u001b[0m\u001b[0;34m\u001b[0m\u001b[0m\n",
       "\u001b[0;31mDocstring:\u001b[0m\n",
       "Query the columns of a DataFrame with a boolean expression.\n",
       "\n",
       "Parameters\n",
       "----------\n",
       "expr : string\n",
       "    The query string to evaluate.  You can refer to variables\n",
       "    in the environment by prefixing them with an '@' character like\n",
       "    ``@a + b``.\n",
       "inplace : bool\n",
       "    Whether the query should modify the data in place or return\n",
       "    a modified copy\n",
       "\n",
       "    .. versionadded:: 0.18.0\n",
       "\n",
       "kwargs : dict\n",
       "    See the documentation for :func:`pandas.eval` for complete details\n",
       "    on the keyword arguments accepted by :meth:`DataFrame.query`.\n",
       "\n",
       "Returns\n",
       "-------\n",
       "q : DataFrame\n",
       "\n",
       "See Also\n",
       "--------\n",
       "pandas.eval\n",
       "DataFrame.eval\n",
       "\n",
       "Notes\n",
       "-----\n",
       "The result of the evaluation of this expression is first passed to\n",
       ":attr:`DataFrame.loc` and if that fails because of a\n",
       "multidimensional key (e.g., a DataFrame) then the result will be passed\n",
       "to :meth:`DataFrame.__getitem__`.\n",
       "\n",
       "This method uses the top-level :func:`pandas.eval` function to\n",
       "evaluate the passed query.\n",
       "\n",
       "The :meth:`~pandas.DataFrame.query` method uses a slightly\n",
       "modified Python syntax by default. For example, the ``&`` and ``|``\n",
       "(bitwise) operators have the precedence of their boolean cousins,\n",
       ":keyword:`and` and :keyword:`or`. This *is* syntactically valid Python,\n",
       "however the semantics are different.\n",
       "\n",
       "You can change the semantics of the expression by passing the keyword\n",
       "argument ``parser='python'``. This enforces the same semantics as\n",
       "evaluation in Python space. Likewise, you can pass ``engine='python'``\n",
       "to evaluate an expression using Python itself as a backend. This is not\n",
       "recommended as it is inefficient compared to using ``numexpr`` as the\n",
       "engine.\n",
       "\n",
       "The :attr:`DataFrame.index` and\n",
       ":attr:`DataFrame.columns` attributes of the\n",
       ":class:`~pandas.DataFrame` instance are placed in the query namespace\n",
       "by default, which allows you to treat both the index and columns of the\n",
       "frame as a column in the frame.\n",
       "The identifier ``index`` is used for the frame index; you can also\n",
       "use the name of the index to identify it in a query. Please note that\n",
       "Python keywords may not be used as identifiers.\n",
       "\n",
       "For further details and examples see the ``query`` documentation in\n",
       ":ref:`indexing <indexing.query>`.\n",
       "\n",
       "Examples\n",
       "--------\n",
       ">>> df = pd.DataFrame(np.random.randn(10, 2), columns=list('ab'))\n",
       ">>> df.query('a > b')\n",
       ">>> df[df.a > df.b]  # same result as the previous expression\n",
       "\u001b[0;31mFile:\u001b[0m      /storage/miniconda3/envs/carpentries/lib/python3.7/site-packages/pandas/core/frame.py\n",
       "\u001b[0;31mType:\u001b[0m      method\n"
      ]
     },
     "metadata": {},
     "output_type": "display_data"
    }
   ],
   "source": [
    "# Try to make the query method work similar to above\n",
    "data.query?"
   ]
  },
  {
   "cell_type": "markdown",
   "metadata": {},
   "source": [
    "## "
   ]
  },
  {
   "cell_type": "code",
   "execution_count": 24,
   "metadata": {},
   "outputs": [],
   "source": [
    "# Add one-hot columns for male and female\n",
    "data.loc[data.NI_GENDER == 'Male', 'Male'] = 1\n",
    "data.loc[data.NI_GENDER == 'Female', 'Female'] = 1"
   ]
  },
  {
   "cell_type": "markdown",
   "metadata": {},
   "source": [
    "Let's take a look at the values and notice how the empty values were populated"
   ]
  },
  {
   "cell_type": "code",
   "execution_count": 25,
   "metadata": {},
   "outputs": [
    {
     "data": {
      "text/html": [
       "<div>\n",
       "<style scoped>\n",
       "    .dataframe tbody tr th:only-of-type {\n",
       "        vertical-align: middle;\n",
       "    }\n",
       "\n",
       "    .dataframe tbody tr th {\n",
       "        vertical-align: top;\n",
       "    }\n",
       "\n",
       "    .dataframe thead th {\n",
       "        text-align: right;\n",
       "    }\n",
       "</style>\n",
       "<table border=\"1\" class=\"dataframe\">\n",
       "  <thead>\n",
       "    <tr style=\"text-align: right;\">\n",
       "      <th></th>\n",
       "      <th>NI_BIRTH_DATE</th>\n",
       "      <th>NI_BIRTH_DATE.1</th>\n",
       "      <th>NI_GENDER</th>\n",
       "      <th>NI_NAME_FACET</th>\n",
       "      <th>NI_MOTHER</th>\n",
       "      <th>NI_FATHER</th>\n",
       "      <th>NI_REG_YEAR</th>\n",
       "      <th>Male</th>\n",
       "      <th>Female</th>\n",
       "    </tr>\n",
       "    <tr>\n",
       "      <th>NI_REG_PLACE</th>\n",
       "      <th></th>\n",
       "      <th></th>\n",
       "      <th></th>\n",
       "      <th></th>\n",
       "      <th></th>\n",
       "      <th></th>\n",
       "      <th></th>\n",
       "      <th></th>\n",
       "      <th></th>\n",
       "    </tr>\n",
       "  </thead>\n",
       "  <tbody>\n",
       "    <tr>\n",
       "      <th>Hobart</th>\n",
       "      <td>1850-01-26</td>\n",
       "      <td>26 Jan 1850</td>\n",
       "      <td>Female</td>\n",
       "      <td>Burgess, Sarah</td>\n",
       "      <td>Foreman, Elizabeth</td>\n",
       "      <td>Burgess, John</td>\n",
       "      <td>1850</td>\n",
       "      <td>NaN</td>\n",
       "      <td>1.0</td>\n",
       "    </tr>\n",
       "    <tr>\n",
       "      <th>Hobart</th>\n",
       "      <td>1850-01-02</td>\n",
       "      <td>02 Jan 1850</td>\n",
       "      <td>Male</td>\n",
       "      <td>Barnett, Robert</td>\n",
       "      <td>Griffin, Margaret</td>\n",
       "      <td>Barnett, William</td>\n",
       "      <td>1850</td>\n",
       "      <td>1.0</td>\n",
       "      <td>NaN</td>\n",
       "    </tr>\n",
       "  </tbody>\n",
       "</table>\n",
       "</div>"
      ],
      "text/plain": [
       "             NI_BIRTH_DATE NI_BIRTH_DATE.1 NI_GENDER    NI_NAME_FACET  \\\n",
       "NI_REG_PLACE                                                            \n",
       "Hobart          1850-01-26     26 Jan 1850    Female   Burgess, Sarah   \n",
       "Hobart          1850-01-02     02 Jan 1850      Male  Barnett, Robert   \n",
       "\n",
       "                       NI_MOTHER         NI_FATHER  NI_REG_YEAR  Male  Female  \n",
       "NI_REG_PLACE                                                                   \n",
       "Hobart        Foreman, Elizabeth     Burgess, John         1850   NaN     1.0  \n",
       "Hobart         Griffin, Margaret  Barnett, William         1850   1.0     NaN  "
      ]
     },
     "execution_count": 25,
     "metadata": {},
     "output_type": "execute_result"
    }
   ],
   "source": [
    "data.head(2)"
   ]
  },
  {
   "cell_type": "markdown",
   "metadata": {},
   "source": [
    "We want numerical values so we can easily use `fillna(0)`:"
   ]
  },
  {
   "cell_type": "code",
   "execution_count": 26,
   "metadata": {},
   "outputs": [
    {
     "data": {
      "text/html": [
       "<div>\n",
       "<style scoped>\n",
       "    .dataframe tbody tr th:only-of-type {\n",
       "        vertical-align: middle;\n",
       "    }\n",
       "\n",
       "    .dataframe tbody tr th {\n",
       "        vertical-align: top;\n",
       "    }\n",
       "\n",
       "    .dataframe thead th {\n",
       "        text-align: right;\n",
       "    }\n",
       "</style>\n",
       "<table border=\"1\" class=\"dataframe\">\n",
       "  <thead>\n",
       "    <tr style=\"text-align: right;\">\n",
       "      <th></th>\n",
       "      <th>NI_BIRTH_DATE</th>\n",
       "      <th>NI_BIRTH_DATE.1</th>\n",
       "      <th>NI_GENDER</th>\n",
       "      <th>NI_NAME_FACET</th>\n",
       "      <th>NI_MOTHER</th>\n",
       "      <th>NI_FATHER</th>\n",
       "      <th>NI_REG_YEAR</th>\n",
       "      <th>Male</th>\n",
       "      <th>Female</th>\n",
       "    </tr>\n",
       "    <tr>\n",
       "      <th>NI_REG_PLACE</th>\n",
       "      <th></th>\n",
       "      <th></th>\n",
       "      <th></th>\n",
       "      <th></th>\n",
       "      <th></th>\n",
       "      <th></th>\n",
       "      <th></th>\n",
       "      <th></th>\n",
       "      <th></th>\n",
       "    </tr>\n",
       "  </thead>\n",
       "  <tbody>\n",
       "    <tr>\n",
       "      <th>Hobart</th>\n",
       "      <td>1850-01-26</td>\n",
       "      <td>26 Jan 1850</td>\n",
       "      <td>Female</td>\n",
       "      <td>Burgess, Sarah</td>\n",
       "      <td>Foreman, Elizabeth</td>\n",
       "      <td>Burgess, John</td>\n",
       "      <td>1850</td>\n",
       "      <td>0.0</td>\n",
       "      <td>1.0</td>\n",
       "    </tr>\n",
       "    <tr>\n",
       "      <th>Hobart</th>\n",
       "      <td>1850-01-02</td>\n",
       "      <td>02 Jan 1850</td>\n",
       "      <td>Male</td>\n",
       "      <td>Barnett, Robert</td>\n",
       "      <td>Griffin, Margaret</td>\n",
       "      <td>Barnett, William</td>\n",
       "      <td>1850</td>\n",
       "      <td>1.0</td>\n",
       "      <td>0.0</td>\n",
       "    </tr>\n",
       "  </tbody>\n",
       "</table>\n",
       "</div>"
      ],
      "text/plain": [
       "             NI_BIRTH_DATE NI_BIRTH_DATE.1 NI_GENDER    NI_NAME_FACET  \\\n",
       "NI_REG_PLACE                                                            \n",
       "Hobart          1850-01-26     26 Jan 1850    Female   Burgess, Sarah   \n",
       "Hobart          1850-01-02     02 Jan 1850      Male  Barnett, Robert   \n",
       "\n",
       "                       NI_MOTHER         NI_FATHER  NI_REG_YEAR  Male  Female  \n",
       "NI_REG_PLACE                                                                   \n",
       "Hobart        Foreman, Elizabeth     Burgess, John         1850   0.0     1.0  \n",
       "Hobart         Griffin, Margaret  Barnett, William         1850   1.0     0.0  "
      ]
     },
     "execution_count": 26,
     "metadata": {},
     "output_type": "execute_result"
    }
   ],
   "source": [
    "data.fillna(0).head(2)"
   ]
  },
  {
   "cell_type": "code",
   "execution_count": 27,
   "metadata": {},
   "outputs": [
    {
     "data": {
      "text/html": [
       "<div>\n",
       "<style scoped>\n",
       "    .dataframe tbody tr th:only-of-type {\n",
       "        vertical-align: middle;\n",
       "    }\n",
       "\n",
       "    .dataframe tbody tr th {\n",
       "        vertical-align: top;\n",
       "    }\n",
       "\n",
       "    .dataframe thead th {\n",
       "        text-align: right;\n",
       "    }\n",
       "</style>\n",
       "<table border=\"1\" class=\"dataframe\">\n",
       "  <thead>\n",
       "    <tr style=\"text-align: right;\">\n",
       "      <th></th>\n",
       "      <th>Male</th>\n",
       "      <th>Female</th>\n",
       "    </tr>\n",
       "    <tr>\n",
       "      <th>NI_REG_PLACE</th>\n",
       "      <th></th>\n",
       "      <th></th>\n",
       "    </tr>\n",
       "  </thead>\n",
       "  <tbody>\n",
       "    <tr>\n",
       "      <th>Hobart</th>\n",
       "      <td>0.0</td>\n",
       "      <td>1.0</td>\n",
       "    </tr>\n",
       "    <tr>\n",
       "      <th>Hobart</th>\n",
       "      <td>1.0</td>\n",
       "      <td>0.0</td>\n",
       "    </tr>\n",
       "    <tr>\n",
       "      <th>Hobart</th>\n",
       "      <td>1.0</td>\n",
       "      <td>0.0</td>\n",
       "    </tr>\n",
       "    <tr>\n",
       "      <th>Hobart</th>\n",
       "      <td>1.0</td>\n",
       "      <td>0.0</td>\n",
       "    </tr>\n",
       "    <tr>\n",
       "      <th>Hobart</th>\n",
       "      <td>0.0</td>\n",
       "      <td>1.0</td>\n",
       "    </tr>\n",
       "  </tbody>\n",
       "</table>\n",
       "</div>"
      ],
      "text/plain": [
       "              Male  Female\n",
       "NI_REG_PLACE              \n",
       "Hobart         0.0     1.0\n",
       "Hobart         1.0     0.0\n",
       "Hobart         1.0     0.0\n",
       "Hobart         1.0     0.0\n",
       "Hobart         0.0     1.0"
      ]
     },
     "execution_count": 27,
     "metadata": {},
     "output_type": "execute_result"
    }
   ],
   "source": [
    "gender_data = data.loc[:, 'Male':'Female'].fillna(0)\n",
    "gender_data.head()"
   ]
  },
  {
   "cell_type": "code",
   "execution_count": 77,
   "metadata": {},
   "outputs": [
    {
     "data": {
      "text/html": [
       "<div>\n",
       "<style scoped>\n",
       "    .dataframe tbody tr th:only-of-type {\n",
       "        vertical-align: middle;\n",
       "    }\n",
       "\n",
       "    .dataframe tbody tr th {\n",
       "        vertical-align: top;\n",
       "    }\n",
       "\n",
       "    .dataframe thead th {\n",
       "        text-align: right;\n",
       "    }\n",
       "</style>\n",
       "<table border=\"1\" class=\"dataframe\">\n",
       "  <thead>\n",
       "    <tr style=\"text-align: right;\">\n",
       "      <th></th>\n",
       "      <th>Male</th>\n",
       "      <th>Female</th>\n",
       "    </tr>\n",
       "    <tr>\n",
       "      <th>NI_REG_PLACE</th>\n",
       "      <th></th>\n",
       "      <th></th>\n",
       "    </tr>\n",
       "  </thead>\n",
       "  <tbody>\n",
       "    <tr>\n",
       "      <th>Bothwell</th>\n",
       "      <td>206.0</td>\n",
       "      <td>196.0</td>\n",
       "    </tr>\n",
       "    <tr>\n",
       "      <th>Brighton</th>\n",
       "      <td>328.0</td>\n",
       "      <td>372.0</td>\n",
       "    </tr>\n",
       "    <tr>\n",
       "      <th>Campbell Town</th>\n",
       "      <td>423.0</td>\n",
       "      <td>392.0</td>\n",
       "    </tr>\n",
       "    <tr>\n",
       "      <th>Clarence</th>\n",
       "      <td>182.0</td>\n",
       "      <td>174.0</td>\n",
       "    </tr>\n",
       "    <tr>\n",
       "      <th>Deloraine</th>\n",
       "      <td>209.0</td>\n",
       "      <td>179.0</td>\n",
       "    </tr>\n",
       "    <tr>\n",
       "      <th>Emu Bay</th>\n",
       "      <td>43.0</td>\n",
       "      <td>47.0</td>\n",
       "    </tr>\n",
       "    <tr>\n",
       "      <th>Esperance</th>\n",
       "      <td>10.0</td>\n",
       "      <td>11.0</td>\n",
       "    </tr>\n",
       "    <tr>\n",
       "      <th>Evandale</th>\n",
       "      <td>33.0</td>\n",
       "      <td>33.0</td>\n",
       "    </tr>\n",
       "    <tr>\n",
       "      <th>Fingal</th>\n",
       "      <td>214.0</td>\n",
       "      <td>190.0</td>\n",
       "    </tr>\n",
       "    <tr>\n",
       "      <th>Franklin</th>\n",
       "      <td>167.0</td>\n",
       "      <td>208.0</td>\n",
       "    </tr>\n",
       "    <tr>\n",
       "      <th>George Town</th>\n",
       "      <td>39.0</td>\n",
       "      <td>37.0</td>\n",
       "    </tr>\n",
       "    <tr>\n",
       "      <th>Glamorgan</th>\n",
       "      <td>89.0</td>\n",
       "      <td>71.0</td>\n",
       "    </tr>\n",
       "    <tr>\n",
       "      <th>Gordon</th>\n",
       "      <td>59.0</td>\n",
       "      <td>46.0</td>\n",
       "    </tr>\n",
       "    <tr>\n",
       "      <th>Great Swanport</th>\n",
       "      <td>10.0</td>\n",
       "      <td>4.0</td>\n",
       "    </tr>\n",
       "    <tr>\n",
       "      <th>Green Ponds</th>\n",
       "      <td>1.0</td>\n",
       "      <td>3.0</td>\n",
       "    </tr>\n",
       "    <tr>\n",
       "      <th>Hamilton</th>\n",
       "      <td>220.0</td>\n",
       "      <td>160.0</td>\n",
       "    </tr>\n",
       "    <tr>\n",
       "      <th>Hobart</th>\n",
       "      <td>6107.0</td>\n",
       "      <td>5687.0</td>\n",
       "    </tr>\n",
       "    <tr>\n",
       "      <th>Horton</th>\n",
       "      <td>213.0</td>\n",
       "      <td>198.0</td>\n",
       "    </tr>\n",
       "    <tr>\n",
       "      <th>Kingston</th>\n",
       "      <td>42.0</td>\n",
       "      <td>37.0</td>\n",
       "    </tr>\n",
       "    <tr>\n",
       "      <th>Launceston</th>\n",
       "      <td>2420.0</td>\n",
       "      <td>2341.0</td>\n",
       "    </tr>\n",
       "    <tr>\n",
       "      <th>Longford</th>\n",
       "      <td>692.0</td>\n",
       "      <td>701.0</td>\n",
       "    </tr>\n",
       "    <tr>\n",
       "      <th>Morven</th>\n",
       "      <td>325.0</td>\n",
       "      <td>333.0</td>\n",
       "    </tr>\n",
       "    <tr>\n",
       "      <th>New Norfolk</th>\n",
       "      <td>341.0</td>\n",
       "      <td>340.0</td>\n",
       "    </tr>\n",
       "    <tr>\n",
       "      <th>Norfolk Island</th>\n",
       "      <td>27.0</td>\n",
       "      <td>22.0</td>\n",
       "    </tr>\n",
       "    <tr>\n",
       "      <th>Oatlands</th>\n",
       "      <td>309.0</td>\n",
       "      <td>302.0</td>\n",
       "    </tr>\n",
       "    <tr>\n",
       "      <th>Port Cygnet</th>\n",
       "      <td>62.0</td>\n",
       "      <td>57.0</td>\n",
       "    </tr>\n",
       "    <tr>\n",
       "      <th>Port Sorell</th>\n",
       "      <td>243.0</td>\n",
       "      <td>231.0</td>\n",
       "    </tr>\n",
       "    <tr>\n",
       "      <th>Ralphs Bay</th>\n",
       "      <td>29.0</td>\n",
       "      <td>24.0</td>\n",
       "    </tr>\n",
       "    <tr>\n",
       "      <th>Richmond</th>\n",
       "      <td>311.0</td>\n",
       "      <td>306.0</td>\n",
       "    </tr>\n",
       "    <tr>\n",
       "      <th>Sorell</th>\n",
       "      <td>130.0</td>\n",
       "      <td>121.0</td>\n",
       "    </tr>\n",
       "    <tr>\n",
       "      <th>Spring Bay</th>\n",
       "      <td>312.0</td>\n",
       "      <td>307.0</td>\n",
       "    </tr>\n",
       "    <tr>\n",
       "      <th>Tasman</th>\n",
       "      <td>110.0</td>\n",
       "      <td>118.0</td>\n",
       "    </tr>\n",
       "    <tr>\n",
       "      <th>Victoria - Huon</th>\n",
       "      <td>29.0</td>\n",
       "      <td>16.0</td>\n",
       "    </tr>\n",
       "    <tr>\n",
       "      <th>Westbury</th>\n",
       "      <td>611.0</td>\n",
       "      <td>604.0</td>\n",
       "    </tr>\n",
       "  </tbody>\n",
       "</table>\n",
       "</div>"
      ],
      "text/plain": [
       "                   Male  Female\n",
       "NI_REG_PLACE                   \n",
       "Bothwell          206.0   196.0\n",
       "Brighton          328.0   372.0\n",
       "Campbell Town     423.0   392.0\n",
       "Clarence          182.0   174.0\n",
       "Deloraine         209.0   179.0\n",
       "Emu Bay            43.0    47.0\n",
       "Esperance          10.0    11.0\n",
       "Evandale           33.0    33.0\n",
       "Fingal            214.0   190.0\n",
       "Franklin          167.0   208.0\n",
       "George Town        39.0    37.0\n",
       "Glamorgan          89.0    71.0\n",
       "Gordon             59.0    46.0\n",
       "Great Swanport     10.0     4.0\n",
       "Green Ponds         1.0     3.0\n",
       "Hamilton          220.0   160.0\n",
       "Hobart           6107.0  5687.0\n",
       "Horton            213.0   198.0\n",
       "Kingston           42.0    37.0\n",
       "Launceston       2420.0  2341.0\n",
       "Longford          692.0   701.0\n",
       "Morven            325.0   333.0\n",
       "New Norfolk       341.0   340.0\n",
       "Norfolk Island     27.0    22.0\n",
       "Oatlands          309.0   302.0\n",
       "Port Cygnet        62.0    57.0\n",
       "Port Sorell       243.0   231.0\n",
       "Ralphs Bay         29.0    24.0\n",
       "Richmond          311.0   306.0\n",
       "Sorell            130.0   121.0\n",
       "Spring Bay        312.0   307.0\n",
       "Tasman            110.0   118.0\n",
       "Victoria - Huon    29.0    16.0\n",
       "Westbury          611.0   604.0"
      ]
     },
     "execution_count": 77,
     "metadata": {},
     "output_type": "execute_result"
    }
   ],
   "source": [
    "# Get the male/female count by city\n",
    "gender_data.groupby('NI_REG_PLACE').sum()"
   ]
  },
  {
   "cell_type": "markdown",
   "metadata": {},
   "source": [
    "### Questions:\n",
    "- \"How can I do statistical analysis of tabular data?\"\n",
    "\n",
    "### Objectives:\n",
    "- \"Select individual values from a Pandas dataframe.\"\n",
    "- \"Select entire rows or entire columns from a dataframe.\"\n",
    "- \"Select a subset of both rows and columns from a dataframe in a single operation.\"\n",
    "- \"Select a subset of a dataframe by a single Boolean criterion.\"\n",
    "\n",
    "### Keypoints:\n",
    "- \"Use `DataFrame.iloc[..., ...]` to select values by integer location.\"\n",
    "- \"Use `:` on its own to mean all columns or all rows.\"\n",
    "- \"Select multiple columns or rows using `DataFrame.loc` and a named slice.\"\n",
    "- \"Result of slicing can be used in further operations.\"\n",
    "- \"Use comparisons to select data based on value.\"\n",
    "- \"Select values or NaN using a Boolean mask.\""
   ]
  },
  {
   "cell_type": "markdown",
   "metadata": {},
   "source": [
    "## References\n",
    "\n",
    "### Software Carpentry\n",
    "* [DataFrames](http://swcarpentry.github.io/python-novice-gapminder/08-data-frames/)\n",
    "\n",
    "### Other\n",
    "* [Introducting Pandas Objects](https://jakevdp.github.io/PythonDataScienceHandbook/03.01-introducing-pandas-objects.html)"
   ]
  }
 ],
 "metadata": {
  "kernelspec": {
   "display_name": "Python 3",
   "language": "python",
   "name": "python3"
  },
  "language_info": {
   "codemirror_mode": {
    "name": "ipython",
    "version": 3
   },
   "file_extension": ".py",
   "mimetype": "text/x-python",
   "name": "python",
   "nbconvert_exporter": "python",
   "pygments_lexer": "ipython3",
   "version": "3.7.2"
  }
 },
 "nbformat": 4,
 "nbformat_minor": 2
}
