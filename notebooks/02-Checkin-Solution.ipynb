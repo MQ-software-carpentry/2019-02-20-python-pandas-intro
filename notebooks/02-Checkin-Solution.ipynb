{
 "cells": [
  {
   "cell_type": "markdown",
   "metadata": {},
   "source": [
    "# Building Data Sets Check-in"
   ]
  },
  {
   "cell_type": "markdown",
   "metadata": {
    "slideshow": {
     "slide_type": "slide"
    }
   },
   "source": [
    "In the [Looping Datasets](LoopingDatasets.ipynb) notebook we saw how to use glob to put together the gapminder data.\n",
    "\n",
    "Also in the data folder are the census birth date for Tasmania. \n",
    "\n",
    "\n",
    "\n",
    "> Note that these CSV files are compressed but that `pd.read_csv` will happily decompress them!"
   ]
  },
  {
   "cell_type": "code",
   "execution_count": null,
   "metadata": {},
   "outputs": [],
   "source": [
    "# Look at data file names\n",
    "!ls ../data/tasmania*"
   ]
  },
  {
   "cell_type": "code",
   "execution_count": null,
   "metadata": {},
   "outputs": [],
   "source": [
    "# Load all of the Tasmania data and get the counts for the years 1860-1890\n",
    "import pandas as pd\n",
    "import glob\n",
    "\n",
    "# Get (compressed) CSV files in the data folder\n",
    "matching_files = glob.glob('../data/tasmania*.csv.bz2')\n",
    "\n",
    "birth_data = pd.concat([pd.read_csv(fn)\n",
    "                           for fn # Filename for each matching file\n",
    "                           in matching_files\n",
    "                       ])"
   ]
  },
  {
   "cell_type": "code",
   "execution_count": null,
   "metadata": {},
   "outputs": [],
   "source": [
    "# Show the counts for the years\n",
    "birth_data.query('NI_REG_YEAR > 1860 & NI_REG_YEAR < 1890').count()"
   ]
  },
  {
   "cell_type": "markdown",
   "metadata": {},
   "source": [
    "# Where to?\n",
    "\n",
    "Learn how to [Read tabular data into pandas](ReadingTabularData.ipynb)."
   ]
  }
 ],
 "metadata": {
  "kernelspec": {
   "display_name": "Python 3",
   "language": "python",
   "name": "python3"
  },
  "language_info": {
   "codemirror_mode": {
    "name": "ipython",
    "version": 3
   },
   "file_extension": ".py",
   "mimetype": "text/x-python",
   "name": "python",
   "nbconvert_exporter": "python",
   "pygments_lexer": "ipython3",
   "version": "3.7.2"
  }
 },
 "nbformat": 4,
 "nbformat_minor": 2
}
