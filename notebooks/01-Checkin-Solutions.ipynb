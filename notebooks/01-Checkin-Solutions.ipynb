{
 "cells": [
  {
   "cell_type": "code",
   "execution_count": null,
   "metadata": {},
   "outputs": [],
   "source": [
    "def string_machine(input_string, iterations=10):\n",
    "    \"\"\"\n",
    "    Takes input_string and generates a new string with -'s and *'s\n",
    "    corresponding to characters that have identical adjacent characters\n",
    "    or not, respectively.  Iterates through this procedure with the resultant\n",
    "    strings for the supplied number of iterations.\n",
    "    \n",
    "    Args:\n",
    "        input_string (str): The input string will have each letter checked\n",
    "            for adjacent mathing letters.\n",
    "        iterations (int): The number of iterations to perform, default 10.\n",
    "    \"\"\"\n",
    "    print(input_string)\n",
    "    old = input_string\n",
    "    for i in range(iterations):\n",
    "        new = ''\n",
    "        # iterate through characters in previous string\n",
    "        for j in range(len(input_string)):\n",
    "            left = j-1\n",
    "            right = (j+1)%len(input_string) # ensure right index wraps around\n",
    "            if old[left]==old[right]:\n",
    "                new += '-'\n",
    "            else:\n",
    "                new += '*'\n",
    "        print(new)\n",
    "        # store new string as old\n",
    "        old = new"
   ]
  },
  {
   "cell_type": "code",
   "execution_count": null,
   "metadata": {},
   "outputs": [],
   "source": [
    "# Call the defined function\n",
    "string_machine('et cetera')"
   ]
  },
  {
   "cell_type": "markdown",
   "metadata": {},
   "source": [
    "# Where to?\n",
    "\n",
    "Learn how to [Read tabular data into pandas](ReadingTabularData.ipynb)."
   ]
  }
 ],
 "metadata": {
  "kernelspec": {
   "display_name": "Python 3",
   "language": "python",
   "name": "python3"
  },
  "language_info": {
   "codemirror_mode": {
    "name": "ipython",
    "version": 3
   },
   "file_extension": ".py",
   "mimetype": "text/x-python",
   "name": "python",
   "nbconvert_exporter": "python",
   "pygments_lexer": "ipython3",
   "version": "3.7.2"
  }
 },
 "nbformat": 4,
 "nbformat_minor": 2
}
