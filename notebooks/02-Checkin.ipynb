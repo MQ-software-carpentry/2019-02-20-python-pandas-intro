{
 "cells": [
  {
   "cell_type": "markdown",
   "metadata": {},
   "source": [
    "# Building Data Sets Check-in"
   ]
  },
  {
   "cell_type": "markdown",
   "metadata": {
    "slideshow": {
     "slide_type": "slide"
    }
   },
   "source": [
    "In the [Looping Datasets](LoopingDatasets.ipynb) notebook we saw how to use glob to put together the gapminder data.\n",
    "\n",
    "Also in the data folder are the census birth date for Tasmania. \n",
    "\n",
    "\n",
    "\n",
    "> Note that these CSV files are compressed but that `pd.read_csv` will happily decompress them!"
   ]
  },
  {
   "cell_type": "code",
   "execution_count": 4,
   "metadata": {},
   "outputs": [
    {
     "name": "stdout",
     "output_type": "stream",
     "text": [
      "../data/tasmania-births-1770-1779.csv.bz2\n",
      "../data/tasmania-births-1780-1789.csv.bz2\n",
      "../data/tasmania-births-1790-1799.csv.bz2\n",
      "../data/tasmania-births-1800-1809.csv.bz2\n",
      "../data/tasmania-births-1810-1819.csv.bz2\n",
      "../data/tasmania-births-1820-1829.csv.bz2\n",
      "../data/tasmania-births-1830-1839.csv.bz2\n",
      "../data/tasmania-births-1840-1849.csv.bz2\n",
      "../data/tasmania-births-1850-1859.csv.bz2\n",
      "../data/tasmania-births-1860-1869.csv.bz2\n",
      "../data/tasmania-births-1870-1879.csv.bz2\n",
      "../data/tasmania-births-1880-1889.csv.bz2\n",
      "../data/tasmania-births-1890-1899.csv.bz2\n",
      "../data/tasmania-births-1900-1909.csv.bz2\n",
      "../data/tasmania-births-1910-1919.csv.bz2\n",
      "../data/tasmania-births-1920-1929.csv.bz2\n",
      "../data/tasmania-births-1930-1939.csv.bz2\n"
     ]
    }
   ],
   "source": [
    "# Look at data file names\n",
    "!ls ../data/tasmania*"
   ]
  },
  {
   "cell_type": "code",
   "execution_count": null,
   "metadata": {},
   "outputs": [],
   "source": [
    "# Load all of the Tasmania data and get the counts for the years 1860-1890"
   ]
  },
  {
   "cell_type": "markdown",
   "metadata": {},
   "source": [
    "See the [solution](01-Checkin-Solutions.ipynb) when finished.  No Cheating!"
   ]
  },
  {
   "cell_type": "markdown",
   "metadata": {},
   "source": [
    "# Where to?\n",
    "\n",
    "Learn how to [Read tabular data into pandas](ReadingTabularData.ipynb)."
   ]
  }
 ],
 "metadata": {
  "kernelspec": {
   "display_name": "Python 3",
   "language": "python",
   "name": "python3"
  },
  "language_info": {
   "codemirror_mode": {
    "name": "ipython",
    "version": 3
   },
   "file_extension": ".py",
   "mimetype": "text/x-python",
   "name": "python",
   "nbconvert_exporter": "python",
   "pygments_lexer": "ipython3",
   "version": "3.7.2"
  }
 },
 "nbformat": 4,
 "nbformat_minor": 2
}
