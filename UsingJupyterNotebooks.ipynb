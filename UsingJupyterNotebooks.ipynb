{
 "cells": [
  {
   "cell_type": "markdown",
   "metadata": {
    "slideshow": {
     "slide_type": "slide"
    }
   },
   "source": [
    "# Jupyter and Friends\n",
    "\n",
    "> The Jupyter Notebook is an open-source web application that allows you to create and share documents that contain live code, equations, visualizations and narrative text. Uses include: data cleaning and transformation, numerical simulation, statistical modeling, data visualization, machine learning, and much more."
   ]
  },
  {
   "cell_type": "markdown",
   "metadata": {},
   "source": [
    "### Definitions\n",
    "\n",
    "* __JupyterLab__: A browser-based application for interactive software development. Helps organize notebooks, data, images, etc.\n",
    "* __Jupyter Notebook__: A single \"page\" of interactive code, usually dedicated to a single task.\n",
    "* __mybinder__: An online service that will run a copy of either a single notebook or a JupyterLab application.\n",
    "\n",
    "\n",
    "* __cell__: The little boxes you can type in. Code can have output.\n",
    "* __command mode__: When you are running or manipulating (adding/removing) cells.\n",
    "* __edit mode__: When you are actually typing text in a cell.\n",
    "* __kernel__: The code behind the webpage that is responsible for running the code in the cells. In our case this is a Python3 kernel.\n",
    "\n",
    "* __Markdown__: A simple way to make easy text formats, such as this bullet point and bold text.\n",
    "\n",
    "## Stop! Let's take a tour!\n",
    "\n",
    "Take a moment to get familiar with the interface to JupyterLab.\n",
    "\n",
    "Also check out this same notebook in a regular Notebook interace (i.e. without JupyterLab)."
   ]
  },
  {
   "cell_type": "markdown",
   "metadata": {},
   "source": [
    "### Most common commands\n",
    "\n",
    "`shift` + `enter` run cell, move down  \n",
    "`ctrl` + `enter` run cell, don't move  \n",
    "`alt` (`option`) + `enter` run cell, insert new cell below  \n",
    "`a` insert cell above  \n",
    "`b` insert cell below  \n",
    "\n",
    "### References\n",
    "* Notebook shortcuts: http://maxmelnick.com/2016/04/19/python-beginner-tips-and-tricks.html\n",
    "* Markdown cheatsheet: https://github.com/adam-p/markdown-here/wiki/Markdown-Cheatsheet\n",
    "* [JupyterLab Documentation](https://jupyterlab.readthedocs.io/en/stable/index.html)\n",
    "\n",
    "<hr>"
   ]
  },
  {
   "cell_type": "markdown",
   "metadata": {},
   "source": [
    "## Using Cells"
   ]
  },
  {
   "cell_type": "markdown",
   "metadata": {},
   "source": [
    "I am a Markdown cell with text.\n",
    "\n",
    "**I am bold.**\n",
    "\n",
    "_I am emphasized._\n",
    "\n",
    "I have a `text=\"code\"` example in the middle of my sentence. The back-tick key (\\`) is usually to the left of the number one (1).\n",
    "\n",
    "```python\n",
    "# I am a python code block\n",
    "fruit_type = 'banana'\n",
    "num_fruits = 42\n",
    "\n",
    "print(f\"Fruit: {fruit_type} Count: {num_fruits}\")\n",
    "```\n",
    "\n",
    "If you double-click or press `enter` while I am active you can edit me! Give it a try now!\n",
    "\n",
    "When you are done editing this cell, press `ctrl-enter` and it will show the rendered text.\n",
    "\n",
    "> **Tip:** An \"active\" cell will have a blue bar to the left. P.S. I'm an inset note, which is also good for quotes!"
   ]
  },
  {
   "cell_type": "markdown",
   "metadata": {},
   "source": [
    "I am a different cell from the one above but because we are both markdown cells it is kind of hard to tell.\n",
    "\n",
    "You should use me to talk about the difference between **command mode** and **edit mode**.\n",
    "\n",
    "* What happens if you are editing me and hit `esc`?\n",
    "* How can you tell if you are in **edit mode**?"
   ]
  },
  {
   "cell_type": "code",
   "execution_count": 2,
   "metadata": {},
   "outputs": [
    {
     "name": "stdout",
     "output_type": "stream",
     "text": [
      "Hello World\n"
     ]
    }
   ],
   "source": [
    "# I am a simple cell that will have some output. Try running me!\n",
    "print('Hello World')"
   ]
  },
  {
   "cell_type": "code",
   "execution_count": 3,
   "metadata": {},
   "outputs": [],
   "source": [
    "# I am a cell with no output\n",
    "month = 2\n",
    "day = 20\n",
    "year = 2019"
   ]
  },
  {
   "cell_type": "markdown",
   "metadata": {},
   "source": [
    "All the cells are connected to the same kernel, so even though there was no output above, we can still access the variables:"
   ]
  },
  {
   "cell_type": "code",
   "execution_count": 4,
   "metadata": {},
   "outputs": [
    {
     "name": "stdout",
     "output_type": "stream",
     "text": [
      "Today's date: 20/2/2019\n"
     ]
    }
   ],
   "source": [
    "print(f\"Today's date: {day}/{month}/{year}\")"
   ]
  },
  {
   "cell_type": "markdown",
   "metadata": {},
   "source": [
    "> #### Important Note: \n",
    "> The kernel doesn't know anything about the order of the cells! While you are developing interactively this can lead to some not-obvious behaviour."
   ]
  },
  {
   "cell_type": "markdown",
   "metadata": {},
   "source": [
    "#### Example:\n",
    "\n",
    "You should have run all the cells up above, which means the kernel is storing three variables (`month`, `day`, `year`).  \n",
    "\n",
    "Now let's go create a new cell above the other cells and try to run the code.\n",
    "\n",
    "* What happens when you create and run a new cell?\n",
    "* What happens when you re-start the kernel and then try the same thing?"
   ]
  }
 ],
 "metadata": {
  "kernelspec": {
   "display_name": "Python 3",
   "language": "python",
   "name": "python3"
  },
  "language_info": {
   "codemirror_mode": {
    "name": "ipython",
    "version": 3
   },
   "file_extension": ".py",
   "mimetype": "text/x-python",
   "name": "python",
   "nbconvert_exporter": "python",
   "pygments_lexer": "ipython3",
   "version": "3.7.2"
  }
 },
 "nbformat": 4,
 "nbformat_minor": 2
}
